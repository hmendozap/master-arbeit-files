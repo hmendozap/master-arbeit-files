{
 "cells": [
  {
   "cell_type": "code",
   "execution_count": 1,
   "metadata": {
    "collapsed": true
   },
   "outputs": [],
   "source": [
    "import numpy as np\n",
    "import pandas as pd\n",
    "import matplotlib.pyplot as plt\n",
    "import seaborn as sns\n",
    "%matplotlib inline\n",
    "import pyrfr.regression as rfreg"
   ]
  },
  {
   "cell_type": "code",
   "execution_count": 5,
   "metadata": {
    "collapsed": true
   },
   "outputs": [],
   "source": [
    "# Sets plot styles\n",
    "sns.set_style('darkgrid')\n",
    "sns.set_color_codes()\n",
    "plt.rcParams['figure.figsize'] = (12.0, 9.0)"
   ]
  },
  {
   "cell_type": "code",
   "execution_count": 6,
   "metadata": {
    "collapsed": true
   },
   "outputs": [],
   "source": [
    "# Location of fitted forests\n",
    "fitted_forest_file = b'fitted_forests/parameter_fitting_run.bin'"
   ]
  },
  {
   "cell_type": "code",
   "execution_count": 7,
   "metadata": {
    "collapsed": true
   },
   "outputs": [],
   "source": [
    "# Create forest\n",
    "reg_forest = rfreg.binary_rss()"
   ]
  },
  {
   "cell_type": "code",
   "execution_count": 8,
   "metadata": {
    "collapsed": false
   },
   "outputs": [],
   "source": [
    "# Load forest\n",
    "reg_forest.load_from_binary_file(fitted_forest_file)"
   ]
  },
  {
   "cell_type": "code",
   "execution_count": 9,
   "metadata": {
    "collapsed": true
   },
   "outputs": [],
   "source": [
    "# Load Data\n",
    "feats = np.load('full_runs_data.npy')\n",
    "response = np.load('full_response.npy')"
   ]
  },
  {
   "cell_type": "code",
   "execution_count": 10,
   "metadata": {
    "collapsed": true
   },
   "outputs": [],
   "source": [
    "feats_df = pd.DataFrame(feats)\n",
    "error_df = pd.DataFrame(response)"
   ]
  },
  {
   "cell_type": "code",
   "execution_count": 11,
   "metadata": {
    "collapsed": false
   },
   "outputs": [],
   "source": [
    "total_df = pd.concat([error_df,feats_df], axis=1)\n",
    "total_df.columns =['error'] +['param_'+str(i) for i in range(28)]"
   ]
  },
  {
   "cell_type": "code",
   "execution_count": 12,
   "metadata": {
    "collapsed": false
   },
   "outputs": [],
   "source": [
    "best_df = total_df[total_df['error'] == total_df.error.min()].sample(n=10, replace=True)"
   ]
  },
  {
   "cell_type": "code",
   "execution_count": 13,
   "metadata": {
    "collapsed": false
   },
   "outputs": [
    {
     "data": {
      "text/html": [
       "<div>\n",
       "<table border=\"1\" class=\"dataframe\">\n",
       "  <thead>\n",
       "    <tr style=\"text-align: right;\">\n",
       "      <th></th>\n",
       "      <th>error</th>\n",
       "      <th>param_0</th>\n",
       "      <th>param_1</th>\n",
       "      <th>param_2</th>\n",
       "      <th>param_3</th>\n",
       "      <th>param_4</th>\n",
       "      <th>param_5</th>\n",
       "      <th>param_6</th>\n",
       "      <th>param_7</th>\n",
       "      <th>param_8</th>\n",
       "      <th>...</th>\n",
       "      <th>param_18</th>\n",
       "      <th>param_19</th>\n",
       "      <th>param_20</th>\n",
       "      <th>param_21</th>\n",
       "      <th>param_22</th>\n",
       "      <th>param_23</th>\n",
       "      <th>param_24</th>\n",
       "      <th>param_25</th>\n",
       "      <th>param_26</th>\n",
       "      <th>param_27</th>\n",
       "    </tr>\n",
       "  </thead>\n",
       "  <tbody>\n",
       "    <tr>\n",
       "      <th>659</th>\n",
       "      <td>0.012346</td>\n",
       "      <td>171</td>\n",
       "      <td>0.152366</td>\n",
       "      <td>0.650134</td>\n",
       "      <td>0.808500</td>\n",
       "      <td>0.881198</td>\n",
       "      <td>0.285800</td>\n",
       "      <td>0.593314</td>\n",
       "      <td>0.074184</td>\n",
       "      <td>0.274967</td>\n",
       "      <td>...</td>\n",
       "      <td>3390</td>\n",
       "      <td>18</td>\n",
       "      <td>0.464284</td>\n",
       "      <td>4</td>\n",
       "      <td>0.030270</td>\n",
       "      <td>0.091690</td>\n",
       "      <td>0.025418</td>\n",
       "      <td>0.070358</td>\n",
       "      <td>0.037071</td>\n",
       "      <td>0.007976</td>\n",
       "    </tr>\n",
       "    <tr>\n",
       "      <th>600</th>\n",
       "      <td>0.012346</td>\n",
       "      <td>275</td>\n",
       "      <td>0.676804</td>\n",
       "      <td>0.574869</td>\n",
       "      <td>0.577597</td>\n",
       "      <td>0.589949</td>\n",
       "      <td>0.888228</td>\n",
       "      <td>0.712073</td>\n",
       "      <td>0.262108</td>\n",
       "      <td>0.909249</td>\n",
       "      <td>...</td>\n",
       "      <td>2056</td>\n",
       "      <td>10</td>\n",
       "      <td>0.413255</td>\n",
       "      <td>3</td>\n",
       "      <td>0.058553</td>\n",
       "      <td>0.040004</td>\n",
       "      <td>0.053026</td>\n",
       "      <td>0.053220</td>\n",
       "      <td>0.088900</td>\n",
       "      <td>0.006481</td>\n",
       "    </tr>\n",
       "    <tr>\n",
       "      <th>224</th>\n",
       "      <td>0.012346</td>\n",
       "      <td>166</td>\n",
       "      <td>0.694455</td>\n",
       "      <td>0.861946</td>\n",
       "      <td>0.194625</td>\n",
       "      <td>0.338222</td>\n",
       "      <td>0.025693</td>\n",
       "      <td>0.486993</td>\n",
       "      <td>0.539208</td>\n",
       "      <td>0.983808</td>\n",
       "      <td>...</td>\n",
       "      <td>5194</td>\n",
       "      <td>6</td>\n",
       "      <td>0.909836</td>\n",
       "      <td>5</td>\n",
       "      <td>0.021945</td>\n",
       "      <td>0.003534</td>\n",
       "      <td>0.068123</td>\n",
       "      <td>0.025992</td>\n",
       "      <td>0.089671</td>\n",
       "      <td>0.061965</td>\n",
       "    </tr>\n",
       "    <tr>\n",
       "      <th>387</th>\n",
       "      <td>0.012346</td>\n",
       "      <td>854</td>\n",
       "      <td>0.196384</td>\n",
       "      <td>0.913762</td>\n",
       "      <td>0.084144</td>\n",
       "      <td>0.861973</td>\n",
       "      <td>0.171859</td>\n",
       "      <td>0.904045</td>\n",
       "      <td>0.019498</td>\n",
       "      <td>0.921645</td>\n",
       "      <td>...</td>\n",
       "      <td>725</td>\n",
       "      <td>10</td>\n",
       "      <td>0.017938</td>\n",
       "      <td>2</td>\n",
       "      <td>0.032325</td>\n",
       "      <td>0.021721</td>\n",
       "      <td>0.067461</td>\n",
       "      <td>0.086482</td>\n",
       "      <td>0.087822</td>\n",
       "      <td>0.071028</td>\n",
       "    </tr>\n",
       "    <tr>\n",
       "      <th>148</th>\n",
       "      <td>0.012346</td>\n",
       "      <td>858</td>\n",
       "      <td>0.293226</td>\n",
       "      <td>0.245561</td>\n",
       "      <td>0.030083</td>\n",
       "      <td>0.220053</td>\n",
       "      <td>0.949264</td>\n",
       "      <td>0.119277</td>\n",
       "      <td>0.845376</td>\n",
       "      <td>0.958895</td>\n",
       "      <td>...</td>\n",
       "      <td>4806</td>\n",
       "      <td>20</td>\n",
       "      <td>0.456756</td>\n",
       "      <td>5</td>\n",
       "      <td>0.092327</td>\n",
       "      <td>0.075637</td>\n",
       "      <td>0.079724</td>\n",
       "      <td>0.011222</td>\n",
       "      <td>0.042025</td>\n",
       "      <td>0.021689</td>\n",
       "    </tr>\n",
       "    <tr>\n",
       "      <th>224</th>\n",
       "      <td>0.012346</td>\n",
       "      <td>166</td>\n",
       "      <td>0.694455</td>\n",
       "      <td>0.861946</td>\n",
       "      <td>0.194625</td>\n",
       "      <td>0.338222</td>\n",
       "      <td>0.025693</td>\n",
       "      <td>0.486993</td>\n",
       "      <td>0.539208</td>\n",
       "      <td>0.983808</td>\n",
       "      <td>...</td>\n",
       "      <td>5194</td>\n",
       "      <td>6</td>\n",
       "      <td>0.909836</td>\n",
       "      <td>5</td>\n",
       "      <td>0.021945</td>\n",
       "      <td>0.003534</td>\n",
       "      <td>0.068123</td>\n",
       "      <td>0.025992</td>\n",
       "      <td>0.089671</td>\n",
       "      <td>0.061965</td>\n",
       "    </tr>\n",
       "    <tr>\n",
       "      <th>539</th>\n",
       "      <td>0.012346</td>\n",
       "      <td>311</td>\n",
       "      <td>0.803819</td>\n",
       "      <td>0.685392</td>\n",
       "      <td>0.184439</td>\n",
       "      <td>0.793024</td>\n",
       "      <td>0.439552</td>\n",
       "      <td>0.704647</td>\n",
       "      <td>0.347393</td>\n",
       "      <td>0.639331</td>\n",
       "      <td>...</td>\n",
       "      <td>288</td>\n",
       "      <td>18</td>\n",
       "      <td>0.053038</td>\n",
       "      <td>1</td>\n",
       "      <td>0.052216</td>\n",
       "      <td>0.049061</td>\n",
       "      <td>0.072336</td>\n",
       "      <td>0.000672</td>\n",
       "      <td>0.036038</td>\n",
       "      <td>0.047631</td>\n",
       "    </tr>\n",
       "    <tr>\n",
       "      <th>221</th>\n",
       "      <td>0.012346</td>\n",
       "      <td>911</td>\n",
       "      <td>0.530324</td>\n",
       "      <td>0.183405</td>\n",
       "      <td>0.901414</td>\n",
       "      <td>0.600503</td>\n",
       "      <td>0.487614</td>\n",
       "      <td>0.431613</td>\n",
       "      <td>0.438590</td>\n",
       "      <td>0.544210</td>\n",
       "      <td>...</td>\n",
       "      <td>1050</td>\n",
       "      <td>15</td>\n",
       "      <td>0.610072</td>\n",
       "      <td>2</td>\n",
       "      <td>0.083734</td>\n",
       "      <td>0.072827</td>\n",
       "      <td>0.055774</td>\n",
       "      <td>0.064888</td>\n",
       "      <td>0.027074</td>\n",
       "      <td>0.032508</td>\n",
       "    </tr>\n",
       "    <tr>\n",
       "      <th>734</th>\n",
       "      <td>0.012346</td>\n",
       "      <td>797</td>\n",
       "      <td>0.152096</td>\n",
       "      <td>0.024367</td>\n",
       "      <td>0.005173</td>\n",
       "      <td>0.690624</td>\n",
       "      <td>0.660479</td>\n",
       "      <td>0.484995</td>\n",
       "      <td>0.566766</td>\n",
       "      <td>0.688940</td>\n",
       "      <td>...</td>\n",
       "      <td>1726</td>\n",
       "      <td>11</td>\n",
       "      <td>0.535338</td>\n",
       "      <td>2</td>\n",
       "      <td>0.071988</td>\n",
       "      <td>0.002770</td>\n",
       "      <td>0.014745</td>\n",
       "      <td>0.006032</td>\n",
       "      <td>0.091400</td>\n",
       "      <td>0.027826</td>\n",
       "    </tr>\n",
       "    <tr>\n",
       "      <th>659</th>\n",
       "      <td>0.012346</td>\n",
       "      <td>171</td>\n",
       "      <td>0.152366</td>\n",
       "      <td>0.650134</td>\n",
       "      <td>0.808500</td>\n",
       "      <td>0.881198</td>\n",
       "      <td>0.285800</td>\n",
       "      <td>0.593314</td>\n",
       "      <td>0.074184</td>\n",
       "      <td>0.274967</td>\n",
       "      <td>...</td>\n",
       "      <td>3390</td>\n",
       "      <td>18</td>\n",
       "      <td>0.464284</td>\n",
       "      <td>4</td>\n",
       "      <td>0.030270</td>\n",
       "      <td>0.091690</td>\n",
       "      <td>0.025418</td>\n",
       "      <td>0.070358</td>\n",
       "      <td>0.037071</td>\n",
       "      <td>0.007976</td>\n",
       "    </tr>\n",
       "  </tbody>\n",
       "</table>\n",
       "<p>10 rows × 29 columns</p>\n",
       "</div>"
      ],
      "text/plain": [
       "        error  param_0   param_1   param_2   param_3   param_4   param_5  \\\n",
       "659  0.012346      171  0.152366  0.650134  0.808500  0.881198  0.285800   \n",
       "600  0.012346      275  0.676804  0.574869  0.577597  0.589949  0.888228   \n",
       "224  0.012346      166  0.694455  0.861946  0.194625  0.338222  0.025693   \n",
       "387  0.012346      854  0.196384  0.913762  0.084144  0.861973  0.171859   \n",
       "148  0.012346      858  0.293226  0.245561  0.030083  0.220053  0.949264   \n",
       "224  0.012346      166  0.694455  0.861946  0.194625  0.338222  0.025693   \n",
       "539  0.012346      311  0.803819  0.685392  0.184439  0.793024  0.439552   \n",
       "221  0.012346      911  0.530324  0.183405  0.901414  0.600503  0.487614   \n",
       "734  0.012346      797  0.152096  0.024367  0.005173  0.690624  0.660479   \n",
       "659  0.012346      171  0.152366  0.650134  0.808500  0.881198  0.285800   \n",
       "\n",
       "      param_6   param_7   param_8    ...     param_18  param_19  param_20  \\\n",
       "659  0.593314  0.074184  0.274967    ...         3390        18  0.464284   \n",
       "600  0.712073  0.262108  0.909249    ...         2056        10  0.413255   \n",
       "224  0.486993  0.539208  0.983808    ...         5194         6  0.909836   \n",
       "387  0.904045  0.019498  0.921645    ...          725        10  0.017938   \n",
       "148  0.119277  0.845376  0.958895    ...         4806        20  0.456756   \n",
       "224  0.486993  0.539208  0.983808    ...         5194         6  0.909836   \n",
       "539  0.704647  0.347393  0.639331    ...          288        18  0.053038   \n",
       "221  0.431613  0.438590  0.544210    ...         1050        15  0.610072   \n",
       "734  0.484995  0.566766  0.688940    ...         1726        11  0.535338   \n",
       "659  0.593314  0.074184  0.274967    ...         3390        18  0.464284   \n",
       "\n",
       "     param_21  param_22  param_23  param_24  param_25  param_26  param_27  \n",
       "659         4  0.030270  0.091690  0.025418  0.070358  0.037071  0.007976  \n",
       "600         3  0.058553  0.040004  0.053026  0.053220  0.088900  0.006481  \n",
       "224         5  0.021945  0.003534  0.068123  0.025992  0.089671  0.061965  \n",
       "387         2  0.032325  0.021721  0.067461  0.086482  0.087822  0.071028  \n",
       "148         5  0.092327  0.075637  0.079724  0.011222  0.042025  0.021689  \n",
       "224         5  0.021945  0.003534  0.068123  0.025992  0.089671  0.061965  \n",
       "539         1  0.052216  0.049061  0.072336  0.000672  0.036038  0.047631  \n",
       "221         2  0.083734  0.072827  0.055774  0.064888  0.027074  0.032508  \n",
       "734         2  0.071988  0.002770  0.014745  0.006032  0.091400  0.027826  \n",
       "659         4  0.030270  0.091690  0.025418  0.070358  0.037071  0.007976  \n",
       "\n",
       "[10 rows x 29 columns]"
      ]
     },
     "execution_count": 13,
     "metadata": {},
     "output_type": "execute_result"
    }
   ],
   "source": [
    "best_df"
   ]
  },
  {
   "cell_type": "code",
   "execution_count": 20,
   "metadata": {
    "collapsed": false
   },
   "outputs": [
    {
     "data": {
      "text/plain": [
       "error          0.012346\n",
       "param_0      858.000000\n",
       "param_1        0.293226\n",
       "param_2        0.245561\n",
       "param_3        0.030083\n",
       "param_4        0.220053\n",
       "param_5        0.949264\n",
       "param_6        0.119277\n",
       "param_7        0.845376\n",
       "param_8        0.958895\n",
       "param_9        0.565386\n",
       "param_10       0.208788\n",
       "param_11       0.516191\n",
       "param_12       2.000000\n",
       "param_13    1252.000000\n",
       "param_14     606.000000\n",
       "param_15    3189.000000\n",
       "param_16    4819.000000\n",
       "param_17    2582.000000\n",
       "param_18    4806.000000\n",
       "param_19      20.000000\n",
       "param_20       0.456756\n",
       "param_21       5.000000\n",
       "param_22       0.092327\n",
       "param_23       0.075637\n",
       "param_24       0.079724\n",
       "param_25       0.011222\n",
       "param_26       0.042025\n",
       "param_27       0.021689\n",
       "Name: 148, dtype: float64"
      ]
     },
     "execution_count": 20,
     "metadata": {},
     "output_type": "execute_result"
    }
   ],
   "source": [
    "best_df.ix[148]"
   ]
  },
  {
   "cell_type": "code",
   "execution_count": 14,
   "metadata": {
    "collapsed": true
   },
   "outputs": [],
   "source": [
    "# Number of samples to extrapolate\n",
    "nsamples = 500\n",
    "\n",
    "prediction_window = np.linspace(1e-3, 0.4, num=nsamples)"
   ]
  },
  {
   "cell_type": "code",
   "execution_count": 4,
   "metadata": {
    "collapsed": false
   },
   "outputs": [],
   "source": []
  },
  {
   "cell_type": "code",
   "execution_count": 17,
   "metadata": {
    "collapsed": false
   },
   "outputs": [
    {
     "name": "stdout",
     "output_type": "stream",
     "text": [
      "Best X-Validation error is 0.012346\n",
      "Best predicted X-Validation error is (0.06275337792968752, 0.17283814303886486)\n",
      "Best X-Validation error is 0.012346\n",
      "Best predicted X-Validation error is (0.08824747200520834, 0.18076935987979903)\n",
      "Best X-Validation error is 0.012346\n",
      "Best predicted X-Validation error is (0.20722353024088547, 0.3228019959017734)\n",
      "Best X-Validation error is 0.012346\n",
      "Best predicted X-Validation error is (0.17985286061197908, 0.2964714077679118)\n",
      "Best X-Validation error is 0.012346\n",
      "Best predicted X-Validation error is (0.08010940635230655, 0.1711791788214553)\n",
      "Best X-Validation error is 0.012346\n",
      "Best predicted X-Validation error is (0.20722353024088547, 0.3228019959017734)\n",
      "Best X-Validation error is 0.012346\n",
      "Best predicted X-Validation error is (0.11501046087239587, 0.22914683534099597)\n",
      "Best X-Validation error is 0.012346\n",
      "Best predicted X-Validation error is (0.04157201198593078, 0.11011106257679483)\n",
      "Best X-Validation error is 0.012346\n",
      "Best predicted X-Validation error is (0.16341373192894348, 0.2684390544207039)\n",
      "Best X-Validation error is 0.012346\n",
      "Best predicted X-Validation error is (0.06275337792968752, 0.17283814303886486)\n"
     ]
    },
    {
     "data": {
      "image/png": "[encoded data removed]",
      "text/plain": [
       "<matplotlib.figure.Figure at 0x7f36463bfb00>"
      ]
     },
     "metadata": {},
     "output_type": "display_data"
    }
   ],
   "source": [
    "# Create canvas\n",
    "fig1 = plt.figure(1, figsize=(15.,11.))\n",
    "ax1 = plt.subplot(111)\n",
    "color_stack = sns.color_palette('Paired',10)\n",
    "\n",
    "for i in range(best_df.shape[0]):\n",
    "    best_array = np.array(best_df.iloc[i, 1:].values, order='C')\n",
    "    response_value = np.array(best_df.iloc[i,0], order='C')\n",
    "    best_config = np.tile(best_array, (nsamples, 1))\n",
    "    best_config[:, 10] = prediction_window\n",
    "\n",
    "    print(\"Best X-Validation error is {}\".format(response_value))\n",
    "    print(\"Best predicted X-Validation error is {}\".format(reg_forest.predict(best_array)))\n",
    "\n",
    "    pred_performance = np.zeros((nsamples, 2))\n",
    "\n",
    "    for j in range(nsamples):\n",
    "        pred_performance[j] = reg_forest.predict(best_config[j])\n",
    "\n",
    "    mean_pred_performance = pred_performance[:, 0]\n",
    "    std_pred_performance = pred_performance[:, 1]\n",
    "\n",
    "    #plt.fill_between(prediction_window, mean_pred_performance+std_pred_performance,\n",
    "    #                 mean_pred_performance-std_pred_performance,  alpha=0.4)\n",
    "    ax1.plot(prediction_window, mean_pred_performance, color=color_stack.pop(), label='config_'+str(i))\n",
    "    #plt.scatter(feats[217, 10], response[217])\n",
    "    ax1.set_xlabel('learning rate values')\n",
    "    ax1.set_ylabel('Predicted X-Validation error')\n",
    "    plt.title(u'Expected validation error based on learning '\n",
    "              u'rate variation\\nwithout preprocessing')\n",
    "    plt.legend()"
   ]
  },
  {
   "cell_type": "code",
   "execution_count": 11,
   "metadata": {
    "collapsed": false
   },
   "outputs": [
    {
     "data": {
      "text/plain": [
       "35"
      ]
     },
     "execution_count": 11,
     "metadata": {},
     "output_type": "execute_result"
    }
   ],
   "source": []
  }
 ],
 "metadata": {
  "kernelspec": {
   "display_name": "Python 3",
   "language": "python",
   "name": "python3"
  },
  "language_info": {
   "codemirror_mode": {
    "name": "ipython",
    "version": 3
   },
   "file_extension": ".py",
   "mimetype": "text/x-python",
   "name": "python",
   "nbconvert_exporter": "python",
   "pygments_lexer": "ipython3",
   "version": "3.4.3"
  }
 },
 "nbformat": 4,
 "nbformat_minor": 0
}
