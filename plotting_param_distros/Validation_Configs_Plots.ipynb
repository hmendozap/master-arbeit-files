{
 "cells": [
  {
   "cell_type": "code",
   "execution_count": 1,
   "metadata": {
    "collapsed": false,
    "slideshow": {
     "slide_type": "-"
    }
   },
   "outputs": [
    {
     "name": "stderr",
     "output_type": "stream",
     "text": [
      "/home/mendozah/workspace/envHDMp/local/lib/python2.7/site-packages/matplotlib/__init__.py:872: UserWarning: axes.color_cycle is deprecated and replaced with axes.prop_cycle; please use the latter.\n",
      "  warnings.warn(self.msg_depr % (key, alt_key))\n"
     ]
    }
   ],
   "source": [
    "import sys, os\n",
    "import numpy as np\n",
    "import matplotlib.pyplot as plt\n",
    "%matplotlib inline\n",
    "import pandas as pd\n",
    "import seaborn as sns\n",
    "from ipywidgets import widgets\n",
    "import ConfigReader as cr"
   ]
  },
  {
   "cell_type": "code",
   "execution_count": null,
   "metadata": {
    "collapsed": true
   },
   "outputs": [],
   "source": [
    "idx = pd.IndexSlice\n",
    "\n",
    "#Styles\n",
    "sns.set_style('whitegrid', {'axes.linewidth':1.25, 'axes.edgecolor':'0.15',\n",
    "                            'grid.linewidth':1.5, 'grid.color':'gray'})\n",
    "sns.set_color_codes()"
   ]
  },
  {
   "cell_type": "code",
   "execution_count": null,
   "metadata": {
    "collapsed": false
   },
   "outputs": [],
   "source": [
    "plt.rcParams['figure.figsize'] = (12.0, 9.0)\n",
    "plt.rc('text', usetex=False)\n",
    "plt.rc('font', size=20.0, family='serif')"
   ]
  },
  {
   "cell_type": "code",
   "execution_count": 341,
   "metadata": {
    "collapsed": true
   },
   "outputs": [],
   "source": [
    "# Data location and scenario\n",
    "experiment = 'full'\n",
    "data_dir = '/mhome/mendozah/autonet_'+ experiment +'/results/experiment'\n",
    "dataset = '38_bac'\n",
    "preprocessor='DeepNetIterative'\n",
    "plot_dir = '/mhome/mendozah/autonet_'+ experiment +'/results/plots_distributions/'"
   ]
  },
  {
   "cell_type": "code",
   "execution_count": null,
   "metadata": {
    "collapsed": false
   },
   "outputs": [],
   "source": [
    "fline = 'validationResults-detailed-traj-run-200-walltime.csv'\n",
    "traj_file = os.path.join(data_dir, dataset, preprocessor, dataset, fline)"
   ]
  },
  {
   "cell_type": "code",
   "execution_count": 342,
   "metadata": {
    "collapsed": false
   },
   "outputs": [],
   "source": [
    "reader = cr.ConfigReader(data_dir=data_dir, dataset=dataset)\n",
    "tdf = reader.load_validation_trajectories(preprocessor=preprocessor, load_config=True)"
   ]
  },
  {
   "cell_type": "code",
   "execution_count": 343,
   "metadata": {
    "collapsed": false
   },
   "outputs": [],
   "source": [
    "tdf.loc[:, ('classifier','num_layers')] = tdf['classifier']['num_layers'].apply(lambda X:ord(X)-ord('a'))"
   ]
  },
  {
   "cell_type": "code",
   "execution_count": 53,
   "metadata": {
    "collapsed": true
   },
   "outputs": [],
   "source": [
    "# Start filtering the error\n",
    "temp_df = tdf.copy()\n",
    "temp_df.columns = tdf.columns.droplevel(0)"
   ]
  },
  {
   "cell_type": "code",
   "execution_count": 54,
   "metadata": {
    "collapsed": false
   },
   "outputs": [],
   "source": [
    "min_perf = temp_df['test_performance'].min()\n",
    "mean_perf = temp_df['test_performance'].mean()\n",
    "std_perf = temp_df['test_performance'].std()\n",
    "qtil_10 = temp_df['test_performance'].quantile(0.1)"
   ]
  },
  {
   "cell_type": "code",
   "execution_count": 55,
   "metadata": {
    "collapsed": false
   },
   "outputs": [],
   "source": [
    "m = tdf[('smac', 'test_performance')] <= mean_perf\n",
    "#tdf[m]"
   ]
  },
  {
   "cell_type": "markdown",
   "metadata": {},
   "source": [
    "### Setting values to log scale and categorical values"
   ]
  },
  {
   "cell_type": "code",
   "execution_count": 56,
   "metadata": {
    "collapsed": false
   },
   "outputs": [],
   "source": [
    "log_columns = ['beta1', 'beta2', 'gamma', 'lambda2', 'learning_rate', 'momentum','num_units_layer_1',\n",
    "               'num_units_layer_2', 'num_units_layer_3', 'num_units_layer_4', 'num_units_layer_5',\n",
    "               'num_units_layer_6', 'power', 'std_layer_1', 'std_layer_2', 'std_layer_3','std_layer_4',\n",
    "               'std_layer_5', 'std_layer_6']\n",
    "\n",
    "categorical_cols = ['activation_layer_1', 'activation_layer_2', 'activation_layer_3', 'activation_layer_4',\n",
    "                    'activation_layer_5', 'activation_layer_6', 'lr_policy', 'num_layers', 'weight_init_1',\n",
    "                    'weight_init_2', 'weight_init_3', 'weight_init_4', 'weight_init_5', 'weight_init_6']"
   ]
  },
  {
   "cell_type": "code",
   "execution_count": 57,
   "metadata": {
    "collapsed": false
   },
   "outputs": [],
   "source": [
    "for lc in log_columns:\n",
    "    try:\n",
    "        tdf.loc[:, ('classifier', lc)] = np.log10(tdf.loc[:, ('classifier', lc)])\n",
    "    except KeyError:\n",
    "        continue"
   ]
  },
  {
   "cell_type": "code",
   "execution_count": null,
   "metadata": {
    "collapsed": false
   },
   "outputs": [],
   "source": [
    "for cc in categorical_cols:\n",
    "    try:\n",
    "        tdf.loc[:, ('classifier',cc)] = tdf.loc[:, ('classifier',cc)].astype('category')\n",
    "    except KeyError:\n",
    "        continue"
   ]
  },
  {
   "cell_type": "markdown",
   "metadata": {
    "collapsed": true
   },
   "source": [
    "## After Setting the frames. Start with the plotting"
   ]
  },
  {
   "cell_type": "code",
   "execution_count": 344,
   "metadata": {
    "collapsed": false
   },
   "outputs": [],
   "source": [
    "# Plot the empirical CDF\n",
    "sorted_train = (tdf['smac']['train_performance'].sort_values(ascending=True).values)\n",
    "sorted_test  = (tdf.sort_values(by=('smac','test_performance'), ascending=True).loc[:,('smac','test_performance')].values)\n",
    "ytrain = np.arange(len(sorted_train)) / float(len(sorted_train))\n",
    "ytest = np.arange(len(sorted_test)) / float(len(sorted_test))"
   ]
  },
  {
   "cell_type": "code",
   "execution_count": 345,
   "metadata": {
    "collapsed": false
   },
   "outputs": [
    {
     "data": {
      "image/png": "[encoded data removed]",
      "text/plain": [
       "<matplotlib.figure.Figure at 0x7f71bbee3790>"
      ]
     },
     "metadata": {},
     "output_type": "display_data"
    }
   ],
   "source": [
    "plt.rcParams['figure.figsize'] = (12.0, 9.0)\n",
    "plt.step(sorted_train, ytrain, label=\"Train Performance\", lw=2.5)\n",
    "plt.step(sorted_test, ytest, label=\"Test Performance\", lw=2.5)\n",
    "plt.xlabel(\"Cross-validation error $y(x)$\")\n",
    "plt.ylabel(r\"Number of Configs (%)\")\n",
    "plt.xlim(0.0, min(1.0, sorted_test.max()+.01))\n",
    "plt.title(\"Empirical CDF of configurations based on error\", fontsize=12.)\n",
    "plt.legend(loc='best')\n",
    "plt.tight_layout()\n",
    "#plt.savefig(plot_dir + 'CDF_Error_' + dataset)\n",
    "plt.show()"
   ]
  },
  {
   "cell_type": "code",
   "execution_count": null,
   "metadata": {
    "collapsed": false
   },
   "outputs": [],
   "source": [
    "def plotting_threshold(error_threshold, categories):\n",
    "    mask_filter = tdf[('smac','test_performance')] <= error_threshold\n",
    "    filtered = tdf[mask_filter]\n",
    "    fig_f, axs = plt.subplots(ncols=2,nrows=1, figsize=(15.0, 8.5))\n",
    "    ax0, ax1 = axs.flat\n",
    "    sns.boxplot(x=categories, y=('smac','test_performance'), data=filtered.sort_values(by=[categories]), ax=ax0)\n",
    "    sns.countplot(y=categories, data=filtered.sort_values(by=[categories]), ax=ax1)\n",
    "    fig_f.tight_layout()"
   ]
  },
  {
   "cell_type": "code",
   "execution_count": null,
   "metadata": {
    "collapsed": false,
    "scrolled": false
   },
   "outputs": [],
   "source": [
    "widgets.interact(plotting_threshold, error_threshold=(min_perf,mean_perf + std_perf, 0.01),\n",
    "                 categories={'Solver':('classifier','solver'), 'Policy':('classifier','lr_policy'),\n",
    "                             'Number of layers':('classifier','num_layers')})"
   ]
  },
  {
   "cell_type": "markdown",
   "metadata": {},
   "source": [
    "### Plot distro over learning rates"
   ]
  },
  {
   "cell_type": "code",
   "execution_count": null,
   "metadata": {
    "collapsed": false
   },
   "outputs": [],
   "source": [
    "# Create the grouping of the filtered DF\n",
    "classifier_df = tdf[m]['classifier']\n",
    "solver_filt = classifier_df.groupby('solver')"
   ]
  },
  {
   "cell_type": "code",
   "execution_count": null,
   "metadata": {
    "collapsed": false,
    "scrolled": false
   },
   "outputs": [],
   "source": [
    "# Seaborns Normed Distribution plots\n",
    "with sns.color_palette('Set1',7):\n",
    "    for name,groups in solver_filt:\n",
    "        #sns.distplot(groups.learning_rate, bins=6, kde_kws={'label':name, 'bw':0.019})\n",
    "        sns.distplot(groups.learning_rate, hist=True, kde=False, bins=10,\n",
    "                     hist_kws={\"histtype\": \"step\", \"linewidth\": 2,\n",
    "                               \"alpha\": 0.8, \"label\": name}, norm_hist=False)\n",
    "        #plt.hist(groups.learning_rate.values, alpha=0.6, bins=20, label=name)\n",
    "    plt.legend()"
   ]
  },
  {
   "cell_type": "code",
   "execution_count": null,
   "metadata": {
    "collapsed": false,
    "scrolled": false
   },
   "outputs": [],
   "source": [
    "col_hist = sns.color_palette('Paired',8, desat=0.8)\n",
    "rows_to_plot = np.int(np.ceil(len(solver_filt)/2.))\n",
    "fig2, axs = plt.subplots(nrows=rows_to_plot, ncols=2, sharex=False)\n",
    "fig2.suptitle('Distribution of learning rate values for each\\\n",
    "solver on %s \\n (based on 50%% best configurations)' % dataset, y=1.02)\n",
    "for ax, (name, groups) in zip(axs.flat,solver_filt):\n",
    "    ax.hist(groups.learning_rate.values, histtype='bar', fill=True,\n",
    "            label=name, color=col_hist.pop())\n",
    "    ax.set_xlabel('learning rate (log scale) ')\n",
    "    ax.set_ylabel('# of Configs')\n",
    "    ax.legend()\n",
    "fig2.tight_layout()\n",
    "ax = axs.flat[-1]\n",
    "ax.set_visible(False)"
   ]
  },
  {
   "cell_type": "markdown",
   "metadata": {},
   "source": [
    "### Plot over different preprocessing methods"
   ]
  },
  {
   "cell_type": "code",
   "execution_count": null,
   "metadata": {
    "collapsed": false
   },
   "outputs": [],
   "source": [
    "# Create the grouping of the filtered DF\n",
    "prepro_filt = tdf[m].groupby([('preprocessor','choice')])"
   ]
  },
  {
   "cell_type": "code",
   "execution_count": null,
   "metadata": {
    "collapsed": false
   },
   "outputs": [],
   "source": [
    "prepro_color = sns.color_palette('Paired',14, desat=0.8)\n",
    "\n",
    "fig4, axs = plt.subplots(nrows=3, ncols=5, sharex='col', figsize=(22.,12.))\n",
    "fig4.suptitle('Distribution of learning rate values for each preprocessing method')\n",
    "for ax, (name, grops) in zip(axs.flat,prepro_filt):\n",
    "    groups = grops['classifier']\n",
    "    ax.hist(groups.learning_rate.values, bins=5, histtype='bar', fill=True, label=name,\n",
    "            color=prepro_color.pop())\n",
    "    ax.set_xlabel('lr values')\n",
    "    ax.set_ylabel('# of Configs')\n",
    "    ax.legend(loc='best')"
   ]
  },
  {
   "cell_type": "markdown",
   "metadata": {},
   "source": [
    "### Plot over different solver"
   ]
  },
  {
   "cell_type": "code",
   "execution_count": null,
   "metadata": {
    "collapsed": true
   },
   "outputs": [],
   "source": [
    "def histogram_group_column_plotting(grouping, column):\n",
    "    g = classifier_df.groupby(grouping)\n",
    "    s = len(g)\n",
    "    col_hist = sns.color_palette('Paired',s, desat=0.8)\n",
    "    fig_hist, axs = plt.subplots(nrows=int(np.ceil(s/2.)), ncols=2, sharex='col',\n",
    "                                 figsize=(15., 11.))\n",
    "    for ax, (name, groups) in zip(axs.flat, g):\n",
    "        ax.hist(groups[column].dropna().values, bins=15,\n",
    "                histtype='bar', fill=True, label=name, alpha=0.9, color=col_hist.pop())\n",
    "        ax.set_xlabel(column + ' values')\n",
    "        ax.set_ylabel('# of Configs')\n",
    "        ax.legend()\n",
    "    ax = axs.flat[7]\n",
    "    ax.set_visible(False)\n",
    "    fig_hist.suptitle('Distribution of '+ column +' values for each '+(grouping))"
   ]
  },
  {
   "cell_type": "code",
   "execution_count": null,
   "metadata": {
    "collapsed": true
   },
   "outputs": [],
   "source": [
    "# Create columns dict\n",
    "Groups = ['solver', 'lr_policy']\n",
    "Plott = {'# of Epochs':'number_epochs', 'batch size':'batch_size',\n",
    "         'step (lr_policy)':'epoch_step', 'Gamma':'gamma', 'Lambda':'lambda2', 'learning rate': 'learning_rate',\n",
    "         'Beta 1':'beta1', 'Beta 2':'beta2', 'Momentum':'momentum', 'Rho':'rho', 'Power':'power',\n",
    "         'Dropout rate of layer 1':'dropout_layer_1', 'Dropout rate of layer 2':'dropout_layer_2',\n",
    "         'Dropout rate of layer 3':'dropout_layer_3', 'Dropout rate of layer 4':'dropout_layer_4',\n",
    "         'Dropout rate of layer 5':'dropout_layer_5', 'Dropout rate at output':'dropout_output'}"
   ]
  },
  {
   "cell_type": "code",
   "execution_count": null,
   "metadata": {
    "collapsed": false,
    "scrolled": false
   },
   "outputs": [],
   "source": [
    "widgets.interact(histogram_group_column_plotting, grouping=Groups, column=Plott)"
   ]
  },
  {
   "cell_type": "markdown",
   "metadata": {},
   "source": [
    "### Distribution of each parameter over all filtered configurations"
   ]
  },
  {
   "cell_type": "code",
   "execution_count": null,
   "metadata": {
    "collapsed": true
   },
   "outputs": [],
   "source": [
    "def histogram_column_plotting(column):\n",
    "    #Have to convert the -1 to NaN\n",
    "    fig_hist = plt.figure(6)\n",
    "    ax1 = plt.subplot(111)\n",
    "    ax1.set_title('Histogram of '+column)\n",
    "    classifier_df[column].plot(kind='hist', bins=15, ax=ax1)\n",
    "    ax1.set_xlabel('values')"
   ]
  },
  {
   "cell_type": "code",
   "execution_count": null,
   "metadata": {
    "collapsed": false
   },
   "outputs": [],
   "source": [
    "non_cat_cols = [item for item in classifier_df.columns.values if item not in categorical_cols]"
   ]
  },
  {
   "cell_type": "code",
   "execution_count": null,
   "metadata": {
    "collapsed": false
   },
   "outputs": [],
   "source": [
    "widgets.interact(histogram_column_plotting, column=non_cat_cols)"
   ]
  },
  {
   "cell_type": "markdown",
   "metadata": {},
   "source": [
    "## Plot average best architectures"
   ]
  },
  {
   "cell_type": "code",
   "execution_count": 7,
   "metadata": {
    "collapsed": false
   },
   "outputs": [],
   "source": [
    "def autolabel(rects):\n",
    "    # attach some text labels\n",
    "    for rect in rects:\n",
    "        height = rect.get_height()\n",
    "        ax_arch.text(rect.get_x() + rect.get_width()/2., height + rect.get_y(),\n",
    "                '%d' % int(height),\n",
    "                ha='center', va='bottom')"
   ]
  },
  {
   "cell_type": "code",
   "execution_count": 364,
   "metadata": {
    "collapsed": false
   },
   "outputs": [],
   "source": [
    "def table_ax(ax):\n",
    "    the_table = pd_table(ax,t, colLabels=['hyperparameters'],\n",
    "                         loc='right', colWidths=[0.25, 0.25])\n",
    "    return the_table"
   ]
  },
  {
   "cell_type": "code",
   "execution_count": 346,
   "metadata": {
    "collapsed": false
   },
   "outputs": [],
   "source": [
    "top5 = tdf.sort_values([('smac','test_performance')]).head(1)"
   ]
  },
  {
   "cell_type": "code",
   "execution_count": 347,
   "metadata": {
    "collapsed": false
   },
   "outputs": [],
   "source": [
    "lays = np.int(np.ceil(np.array(top5['classifier']['num_layers']).mean()))\n",
    "labels_list = ['Layer_'+str(i) for i in range(1,7)]\n",
    "pre_m = top5['preprocessor']['choice'].describe().top\n",
    "\n",
    "activations = []\n",
    "n_layers = []\n",
    "weights = []\n",
    "for i in np.arange(1,lays):\n",
    "    activations.append(top5['classifier']['activation_layer_'+str(i)].describe().top)\n",
    "    n_layers.append(top5['classifier']['num_units_layer_'+str(i)].mean())\n",
    "    weights.append(top5['classifier']['weight_init_'+str(i)].describe().top)"
   ]
  },
  {
   "cell_type": "code",
   "execution_count": 348,
   "metadata": {
    "collapsed": true
   },
   "outputs": [],
   "source": [
    "a = pd.Series(np.array(n_layers))\n",
    "botoms = np.fabs(a.sub(a.max()))/2"
   ]
  },
  {
   "cell_type": "code",
   "execution_count": 320,
   "metadata": {
    "collapsed": false
   },
   "outputs": [],
   "source": [
    "activ_list = ['relu', 'elu', 'leaky', 'sigmoid', 'tanh', 'scaledTanh', 'linear']\n",
    "colr_list = sns.xkcd_palette([\"windows blue\", \"pastel blue\", \"grey blue\", \"red orange\", \"emerald\", \"pine green\", \"amber\"])\n",
    "activation_color_codes = dict(zip(activ_list,colr_list))"
   ]
  },
  {
   "cell_type": "code",
   "execution_count": 356,
   "metadata": {
    "collapsed": false
   },
   "outputs": [],
   "source": [
    "tab = top5.classifier.T.dropna()\n",
    "table_list = ['batch_size', 'dropout_output', 'learning_rate', 'lambda2', 'number_epochs', 'solver']\n",
    "t = tab.loc[table_list]\n",
    "t = t.append(top5['preprocessor']['choice'])"
   ]
  },
  {
   "cell_type": "code",
   "execution_count": 324,
   "metadata": {
    "collapsed": false
   },
   "outputs": [],
   "source": [
    "from pandas.tools.plotting import table as pd_table"
   ]
  },
  {
   "cell_type": "code",
   "execution_count": 365,
   "metadata": {
    "collapsed": false
   },
   "outputs": [
    {
     "data": {
      "image/png": "[encoded data removed]",
      "text/plain": [
       "<matplotlib.figure.Figure at 0x7f71bc1c8390>"
      ]
     },
     "metadata": {},
     "output_type": "display_data"
    }
   ],
   "source": [
    "bar_width = 0.1\n",
    "colors_bars = [activation_color_codes.get(i) for i in activations]\n",
    "with sns.axes_style('ticks'):\n",
    "    fig_arch = plt.figure(4, figsize=(12.,9.))\n",
    "    ax_arch = plt.subplot(111)\n",
    "    bars = ax_arch.bar(np.arange(lays-1)-(bar_width/2), a, bottom=botoms, width=bar_width, color=colors_bars)\n",
    "    sns.despine(left=True)\n",
    "    ax_arch.set_ylabel('Number of units in layer_x')\n",
    "    #ax_arch.get_yaxis().set_visible(False)\n",
    "    ax_arch.set_yticklabels([])\n",
    "    ax_arch.set_yticks([])\n",
    "    ax_arch.set_xticks(np.arange(lays-1))\n",
    "    ax_arch.set_xticklabels(labels_list[:lays-1])\n",
    "    autolabel(bars)\n",
    "    table_ax(ax_arch)\n",
    "    l0 = ax_arch.legend([b for b in bars], activations, loc='best', title='activation $f(x)$', fancybox=True)\n",
    "    ax_arch.add_artist(l0)\n",
    "    ax_arch.set_title('Single best architecture for dataset %s' % dataset)\n",
    "    ax_arch.set_xlim(-0.5,lays - 1)"
   ]
  },
  {
   "cell_type": "code",
   "execution_count": null,
   "metadata": {
    "collapsed": false
   },
   "outputs": [],
   "source": [
    "colors = [\"windows blue\", \"pastel blue\", \"grey blue\", \"red orange\", \"emerald\", \"pine green\", \"amber\"]\n",
    "sns.palplot(sns.xkcd_palette(colors))"
   ]
  },
  {
   "cell_type": "code",
   "execution_count": null,
   "metadata": {
    "collapsed": true
   },
   "outputs": [],
   "source": [
    "weight_list = ['he_normal', 'glorot_uniform', 'sparse', 'uniform', 'constant',\n",
    "       'normal', 'glorot_normal', 'ortogonal', 'he_uniform']"
   ]
  },
  {
   "cell_type": "code",
   "execution_count": 354,
   "metadata": {
    "collapsed": false
   },
   "outputs": [
    {
     "data": {
      "image/png": "[encoded data removed]",
      "text/plain": [
       "<matplotlib.figure.Figure at 0x7f71bc5d4ed0>"
      ]
     },
     "metadata": {},
     "output_type": "display_data"
    }
   ],
   "source": [
    "colr_weight_list = sns.xkcd_palette([\"windows blue\", \"pastel blue\", \"grey blue\", \"red orange\", \"emerald\", \"pine green\", \"amber\"])\n",
    "sns.palplot(colr_weight_list)"
   ]
  },
  {
   "cell_type": "code",
   "execution_count": null,
   "metadata": {
    "collapsed": false
   },
   "outputs": [],
   "source": [
    "weight_color_codes = dict(zip(weight_list,colr_weight_list))"
   ]
  },
  {
   "cell_type": "code",
   "execution_count": null,
   "metadata": {
    "collapsed": true
   },
   "outputs": [],
   "source": []
  }
 ],
 "metadata": {
  "kernelspec": {
   "display_name": "Python 2",
   "language": "python",
   "name": "python2"
  },
  "language_info": {
   "codemirror_mode": {
    "name": "ipython",
    "version": 2
   },
   "file_extension": ".py",
   "mimetype": "text/x-python",
   "name": "python",
   "nbconvert_exporter": "python",
   "pygments_lexer": "ipython2",
   "version": "2.7.6"
  }
 },
 "nbformat": 4,
 "nbformat_minor": 0
}
