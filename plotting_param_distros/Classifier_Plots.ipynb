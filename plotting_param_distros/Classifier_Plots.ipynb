{
 "cells": [
  {
   "cell_type": "code",
   "execution_count": null,
   "metadata": {
    "collapsed": false
   },
   "outputs": [],
   "source": [
    "import sys, os\n",
    "import numpy as np\n",
    "import matplotlib.pyplot as plt\n",
    "%matplotlib inline\n",
    "import pandas as pd\n",
    "import seaborn as sns\n",
    "from ipywidgets import widgets\n",
    "import ConfigReader as cr\n",
    "import itertools as itt"
   ]
  },
  {
   "cell_type": "code",
   "execution_count": null,
   "metadata": {
    "collapsed": true
   },
   "outputs": [],
   "source": [
    "#Styles\n",
    "sns.set_style('whitegrid', {'axes.linewidth':1.25, 'axes.edgecolor':'0.15',\n",
    "                            'grid.linewidth':1.5, 'grid.color':'gray'})\n",
    "#sns.set_context(\"notebook\", font_scale=1.5, rc={\"lines.linewidth\": 2.5})\n",
    "sns.set_color_codes()"
   ]
  },
  {
   "cell_type": "code",
   "execution_count": null,
   "metadata": {
    "collapsed": false
   },
   "outputs": [],
   "source": [
    "plt.rcParams['figure.figsize'] = (12.0, 9.0)\n",
    "\n",
    "plt.rc('text', usetex=False)\n",
    "plt.rc('font', size=20.0, family='serif')\n",
    "\n",
    "markers = itt.cycle(('o', 's', 'p','H'))"
   ]
  },
  {
   "cell_type": "code",
   "execution_count": null,
   "metadata": {
    "collapsed": true
   },
   "outputs": [],
   "source": [
    "datasets_list =[\"1049\", \"1111\", \"1120\", \"1128\", \"179\", \"184\", \"293\", \"389\", \"38\", \"46\", \"554\", \"772\", \"917\"]"
   ]
  },
  {
   "cell_type": "code",
   "execution_count": null,
   "metadata": {
    "collapsed": true
   },
   "outputs": [],
   "source": [
    "# Data location and scenario\n",
    "experiments = ['full', 'GPU']\n",
    "preprocessor='DeepNetIterative'"
   ]
  },
  {
   "cell_type": "code",
   "execution_count": null,
   "metadata": {
    "collapsed": true
   },
   "outputs": [],
   "source": [
    "prepro_color = itt.cycle(sns.color_palette('Set1',15))"
   ]
  },
  {
   "cell_type": "code",
   "execution_count": null,
   "metadata": {
    "collapsed": true
   },
   "outputs": [],
   "source": [
    "data_dir = '/mhome/mendozah/autonet_GPU/results/experiment'\n",
    "plot_dir = '/mhome/mendozah/autonet_GPU/results/plots_distributions/plots_improvement/'"
   ]
  },
  {
   "cell_type": "code",
   "execution_count": null,
   "metadata": {
    "collapsed": false
   },
   "outputs": [],
   "source": [
    "# Plot improvement over default\n",
    "dataset_improv = []\n",
    "bar_width = 0.25\n",
    "for w, experiment in enumerate(experiments):\n",
    "    datadir = \"/mhome/mendozah/autonet_\" + experiment + \"/results/experiment\"\n",
    "    reader = cr.ConfigReader(data_dir=datadir)\n",
    "    for i, name in enumerate(datasets_list):\n",
    "        dataset = name + '_bac'\n",
    "        tdf = reader.load_validation_trajectories(dataset=dataset, preprocessor=preprocessor, load_config=False)\n",
    "        mask_time = tdf.loc[:, ('smac', 'time')]==0\n",
    "        default_perf = tdf[mask_time].loc[:, ('smac', 'test_performance')].mean()\n",
    "        single_best_perf = tdf['smac']['test_performance'].min()\n",
    "        improvement = (default_perf-single_best_perf)/default_perf\n",
    "        dataset_improv.append([name, default_perf, single_best_perf, improvement, experiment])"
   ]
  },
  {
   "cell_type": "code",
   "execution_count": null,
   "metadata": {
    "collapsed": true
   },
   "outputs": [],
   "source": [
    "df_improv = pd.DataFrame(dataset_improv, columns=['dataset', 'default_performance', 'best_performance', 'improvement', 'experiment'])\n",
    "df_improv = df_improv.sort_values(by=['improvement', 'experiment'])\n",
    "df_improv.loc[df_improv.experiment == 'full', 'experiment'] = 'CPU'"
   ]
  },
  {
   "cell_type": "code",
   "execution_count": null,
   "metadata": {
    "collapsed": true
   },
   "outputs": [],
   "source": [
    "plt.rcdefaults()"
   ]
  },
  {
   "cell_type": "code",
   "execution_count": null,
   "metadata": {
    "collapsed": false
   },
   "outputs": [],
   "source": [
    "plt.rcParams['figure.figsize'] = (13.0, 8.0)\n",
    "plt.rc('text', usetex=False)\n",
    "plt.rc('font', size=14.0, family='serif')\n",
    "fig_improvement, ax_improv = plt.subplots(1,1)\n",
    "ax_improv.set_title('Perceived single best improvement over default config')\n",
    "sns.barplot(x='dataset', y='improvement', data=df_improv, hue='experiment', ax=ax_improv)\n",
    "ax_improv.set_ylabel('Improvement\\n[(Default Config. - Best Config.) / Default Config.]')\n",
    "ax_improv.set_xlabel('Representative Datasets')\n",
    "fig_improvement.show()"
   ]
  },
  {
   "cell_type": "code",
   "execution_count": null,
   "metadata": {
    "collapsed": false
   },
   "outputs": [],
   "source": [
    "# SCATTER Plot improvement over default\n",
    "prepro_color = sns.color_palette('Set1',14)\n",
    "fig_improvement, ax_improv = plt.subplots(1,1)\n",
    "ax_improv.set_title('Perceived improvement over default config\\n(bigger marker means more improvement)')\n",
    "for name in datasets_list:\n",
    "    dataset = name + '_bac'\n",
    "    tdf = reader.load_validation_trajectories(dataset=dataset, preprocessor=preprocessor, load_config=False)\n",
    "    mask_time = tdf.loc[:, ('smac', 'time')]==0\n",
    "    default_perf = tdf[mask_time].loc[:, ('smac', 'test_performance')].mean()\n",
    "    single_best_perf = tdf['smac']['test_performance'].min()\n",
    "    ax_improv.scatter(default_perf, single_best_perf, label=name, marker=next(markers),\n",
    "                      s=70* default_perf/single_best_perf,\n",
    "                      color=prepro_color.pop(), edgecolor='k', linewidth=1.8, alpha=0.8)\n",
    "ax_improv.plot([0,1],[0,1], '--k')\n",
    "ax_improv.set_xlim(0,2)\n",
    "ax_improv.set_ylim(0,1)\n",
    "ax_improv.set_xlabel('Default configuration performance')\n",
    "ax_improv.set_ylabel('Single best test performance')\n",
    "ax_improv.legend(ncol=3, loc='best')\n",
    "ax_improv.text(0.3, 0.6, 'No improvement line', fontsize=12)\n",
    "#fig_improvement.savefig(plot_dir+'Improvement_scatter_plot_Autonet_NoPreprocessing.png')"
   ]
  },
  {
   "cell_type": "markdown",
   "metadata": {},
   "source": [
    "## Comparison plots activation"
   ]
  },
  {
   "cell_type": "code",
   "execution_count": null,
   "metadata": {
    "collapsed": true
   },
   "outputs": [],
   "source": [
    "def sigmoid(x):\n",
    "    return 1 / (1 + np.exp(-x))"
   ]
  },
  {
   "cell_type": "code",
   "execution_count": null,
   "metadata": {
    "collapsed": true
   },
   "outputs": [],
   "source": [
    "x = np.linspace(-3, 3, 200)"
   ]
  },
  {
   "cell_type": "code",
   "execution_count": null,
   "metadata": {
    "collapsed": false
   },
   "outputs": [],
   "source": [
    "plt.rcParams['figure.figsize'] = (15.0, 7.0)\n",
    "#plt.rc('text', usetex=False)\n",
    "plt.rc('font', size=14.0, family='serif')\n",
    "fig_tan, axs = plt.subplots(1,2, sharey=True)\n",
    "ax0, ax1 = axs.flat\n",
    "#ax_tan.set_title('Perceived single best improvement over default config')\n",
    "ax0.plot(x, sigmoid(x), label='sigmoid')\n",
    "ax0.set_ylabel('$\\\\sigma(x)$', fontsize=16)\n",
    "ax1.plot(x, np.tanh(x), label=u'$\\\\alpha = 1., \\\\beta=1$')\n",
    "ax1.plot(x, 1.7159 * np.tanh((2./3.) * x), label=u'$\\\\alpha = 2./3., \\\\beta=1.7159$')\n",
    "#plt.plot(x, 2.4 * np.tanh((1./2.) * x))\n",
    "ax1.plot(x, 1.48 * np.tanh((3./1.) * x), label=u'$\\\\alpha = 3.$, $\\\\beta=1.48$')\n",
    "ax1.set_xlabel('$x$', fontsize=16)\n",
    "ax0.set_xlabel('$x$', fontsize=16)\n",
    "ax1.legend(loc='best', fancybox=True, fontsize=16)\n",
    "ax0.legend(loc='best', fontsize=16, framealpha=1.5)\n",
    "fig_tan.suptitle('Comparison of sigmoid and tanh functions', fontsize=20)\n",
    "plt.savefig('/home/mendozah/workspace/thesis_autonet/images/tanh_compare.pdf')"
   ]
  },
  {
   "cell_type": "code",
   "execution_count": null,
   "metadata": {
    "collapsed": true
   },
   "outputs": [],
   "source": [
    "r = np.linspace(-2, 2, 300)\n",
    "a = 0.25"
   ]
  },
  {
   "cell_type": "code",
   "execution_count": null,
   "metadata": {
    "collapsed": false
   },
   "outputs": [],
   "source": [
    "def elu(x):\n",
    "    if x > 0:\n",
    "        return x\n",
    "    else:\n",
    "        return 1.0*(np.exp(x)-1)"
   ]
  },
  {
   "cell_type": "code",
   "execution_count": null,
   "metadata": {
    "collapsed": false
   },
   "outputs": [],
   "source": [
    "velu = np.vectorize(elu)"
   ]
  },
  {
   "cell_type": "code",
   "execution_count": null,
   "metadata": {
    "collapsed": false,
    "scrolled": false
   },
   "outputs": [],
   "source": [
    "plt.rcParams['figure.figsize'] = (12.0, 9.0)\n",
    "#plt.rc('text', usetex=False)\n",
    "#plt.rc('font', size=14.0, family='serif')\n",
    "fig_relu, axs = plt.subplots(1,1)\n",
    "axs.plot(r, np.maximum(0, r), label='ReLU')\n",
    "axs.plot(r, np.maximum(a*r, r), label='leaky ReLU')\n",
    "axs.plot(r, velu(r), 'r--', lw=2.4, label='ELU')\n",
    "axs.set_ylabel('$\\\\sigma(x)$', fontsize=16)\n",
    "axs.set_xlabel('$x$', fontsize=16)\n",
    "axs.legend(loc='best', fancybox=True, fontsize=16)\n",
    "fig_relu.suptitle('Comparison of ReLU functions', fontsize=20)\n",
    "plt.savefig('/home/mendozah/workspace/thesis_autonet/images/relu_compare.pdf')"
   ]
  }
 ],
 "metadata": {
  "kernelspec": {
   "display_name": "Python 2",
   "language": "python",
   "name": "python2"
  },
  "language_info": {
   "codemirror_mode": {
    "name": "ipython",
    "version": 2
   },
   "file_extension": ".py",
   "mimetype": "text/x-python",
   "name": "python",
   "nbconvert_exporter": "python",
   "pygments_lexer": "ipython2",
   "version": "2.7.6"
  }
 },
 "nbformat": 4,
 "nbformat_minor": 0
}
