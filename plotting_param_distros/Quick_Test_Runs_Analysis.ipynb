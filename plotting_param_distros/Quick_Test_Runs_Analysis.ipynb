{
 "cells": [
  {
   "cell_type": "code",
   "execution_count": 16,
   "metadata": {
    "collapsed": false
   },
   "outputs": [],
   "source": [
    "import sys, os\n",
    "import numpy as np\n",
    "import matplotlib.pyplot as plt\n",
    "%matplotlib inline\n",
    "import pandas as pd\n",
    "import seaborn as sns\n",
    "import ConfigReader as cr"
   ]
  },
  {
   "cell_type": "code",
   "execution_count": 2,
   "metadata": {
    "collapsed": true
   },
   "outputs": [],
   "source": [
    "#Styles\n",
    "sns.set_style('darkgrid')\n",
    "sns.set_color_codes()\n",
    "plt.rcParams['figure.figsize'] = (12.0, 9.0)\n",
    "\n",
    "plt.rc('text', usetex=False)\n",
    "plt.rc('font', size=20.0, family='serif')"
   ]
  },
  {
   "cell_type": "code",
   "execution_count": 3,
   "metadata": {
    "collapsed": false
   },
   "outputs": [],
   "source": [
    "# Data location and scenario\n",
    "data_dir = '../autosk_dev_test/tmp/autosk_tmp/'\n",
    "dataset = '75b0b02b1bce13783cbf1252b38b927a'\n",
    "preprocessor='state-run30'\n",
    "fline = 'runs_and_results-it9.csv'\n",
    "fh = os.path.join(data_dir,dataset, preprocessor, fline)"
   ]
  },
  {
   "cell_type": "code",
   "execution_count": 21,
   "metadata": {
    "collapsed": false
   },
   "outputs": [
    {
     "data": {
      "text/plain": [
       "<module 'ConfigReader' from 'ConfigReader.py'>"
      ]
     },
     "execution_count": 21,
     "metadata": {},
     "output_type": "execute_result"
    }
   ],
   "source": [
    "reload(cr)"
   ]
  },
  {
   "cell_type": "code",
   "execution_count": 22,
   "metadata": {
    "collapsed": true
   },
   "outputs": [],
   "source": [
    "reader = cr.ConfigReader()"
   ]
  },
  {
   "cell_type": "code",
   "execution_count": 23,
   "metadata": {
    "collapsed": false
   },
   "outputs": [
    {
     "data": {
      "text/plain": [
       "'it9.csv'"
      ]
     },
     "execution_count": 23,
     "metadata": {},
     "output_type": "execute_result"
    }
   ],
   "source": [
    "fline.split('runs_and_results-')[1]"
   ]
  },
  {
   "cell_type": "code",
   "execution_count": 24,
   "metadata": {
    "collapsed": false
   },
   "outputs": [
    {
     "name": "stdout",
     "output_type": "stream",
     "text": [
      "paramstrings-it9*\n"
     ]
    },
    {
     "name": "stderr",
     "output_type": "stream",
     "text": [
      "ConfigReader.py:121: ParserWarning: Falling back to the 'python' engine because the 'c' engine does not support regex separators; you can avoid this warning by specifying engine='python'.\n",
      "  config_df = _pd.read_csv(confname, delimiter=\",|:\\s\", header=None)\n"
     ]
    }
   ],
   "source": [
    "tdf = reader.load_run_by_file(fh)"
   ]
  },
  {
   "cell_type": "code",
   "execution_count": 29,
   "metadata": {
    "collapsed": false
   },
   "outputs": [],
   "source": [
    "tdf = tdf.apply(pd.to_numeric, errors='ignore')"
   ]
  },
  {
   "cell_type": "code",
   "execution_count": 36,
   "metadata": {
    "collapsed": false
   },
   "outputs": [
    {
     "data": {
      "text/plain": [
       "0      20.466639\n",
       "1     111.391731\n",
       "2      97.865330\n",
       "3     272.188293\n",
       "4     210.901351\n",
       "5      42.718379\n",
       "6     179.713467\n",
       "7     260.163733\n",
       "8     109.635694\n",
       "9     104.985673\n",
       "10     33.284896\n",
       "11    203.498567\n",
       "12    447.704462\n",
       "13    376.995497\n",
       "14    228.598854\n",
       "15    141.778551\n",
       "16    193.293492\n",
       "17    156.659844\n",
       "dtype: float64"
      ]
     },
     "execution_count": 36,
     "metadata": {},
     "output_type": "execute_result"
    }
   ],
   "source": [
    "(tdf.batch_size * tdf.number_updates)/ 2443"
   ]
  },
  {
   "cell_type": "code",
   "execution_count": 38,
   "metadata": {
    "collapsed": false
   },
   "outputs": [
    {
     "data": {
      "text/plain": [
       "config_id                      9\n",
       "response                0.475836\n",
       "runtime                  11.4802\n",
       "smac_iter                      5\n",
       "cum_runtime              4086.41\n",
       "run_result                   SAT\n",
       "batch_size                   117\n",
       "beta1                0.000345414\n",
       "beta2                 0.00412159\n",
       "dropout_layer_1         0.845594\n",
       "dropout_layer_2         0.498673\n",
       "dropout_layer_3         0.825671\n",
       "dropout_layer_4         0.768363\n",
       "dropout_layer_5         0.290589\n",
       "dropout_layer_6        0.0723809\n",
       "dropout_output          0.958248\n",
       "learning_rate         0.00891663\n",
       "momentum                0.817233\n",
       "num_layers                     3\n",
       "num_units_layer_1           1406\n",
       "num_units_layer_2             33\n",
       "num_units_layer_3             26\n",
       "num_units_layer_4             91\n",
       "num_units_layer_5             65\n",
       "num_units_layer_6             13\n",
       "number_updates               695\n",
       "rho                     0.800883\n",
       "solver                      adam\n",
       "std_layer_1          0.000335966\n",
       "std_layer_2          3.94608e-05\n",
       "std_layer_3          0.000788702\n",
       "std_layer_4          0.000115496\n",
       "std_layer_5          0.000121098\n",
       "std_layer_6           2.0197e-05\n",
       "Name: 10, dtype: object"
      ]
     },
     "execution_count": 38,
     "metadata": {},
     "output_type": "execute_result"
    }
   ],
   "source": [
    "tdf.ix[10]"
   ]
  },
  {
   "cell_type": "code",
   "execution_count": null,
   "metadata": {
    "collapsed": true
   },
   "outputs": [],
   "source": []
  },
  {
   "cell_type": "code",
   "execution_count": null,
   "metadata": {
    "collapsed": true
   },
   "outputs": [],
   "source": []
  }
 ],
 "metadata": {
  "kernelspec": {
   "display_name": "Python 2",
   "language": "python",
   "name": "python2"
  },
  "language_info": {
   "codemirror_mode": {
    "name": "ipython",
    "version": 2
   },
   "file_extension": ".py",
   "mimetype": "text/x-python",
   "name": "python",
   "nbconvert_exporter": "python",
   "pygments_lexer": "ipython2",
   "version": "2.7.6"
  }
 },
 "nbformat": 4,
 "nbformat_minor": 0
}
