{
 "cells": [
  {
   "cell_type": "code",
   "execution_count": 1,
   "metadata": {
    "collapsed": false,
    "slideshow": {
     "slide_type": "-"
    }
   },
   "outputs": [
    {
     "name": "stderr",
     "output_type": "stream",
     "text": [
      "/home/mendozah/workspace/envHDMp/local/lib/python2.7/site-packages/matplotlib/font_manager.py:273: UserWarning: Matplotlib is building the font cache using fc-list. This may take a moment.\n",
      "  warnings.warn('Matplotlib is building the font cache using fc-list. This may take a moment.')\n",
      "/home/mendozah/workspace/envHDMp/local/lib/python2.7/site-packages/matplotlib/__init__.py:872: UserWarning: axes.color_cycle is deprecated and replaced with axes.prop_cycle; please use the latter.\n",
      "  warnings.warn(self.msg_depr % (key, alt_key))\n"
     ]
    }
   ],
   "source": [
    "import sys, os\n",
    "import numpy as np\n",
    "import matplotlib.pyplot as plt\n",
    "%matplotlib inline\n",
    "import pandas as pd\n",
    "import seaborn as sns\n",
    "import itertools as itt\n",
    "from ipywidgets import widgets\n",
    "import ConfigReader as cr"
   ]
  },
  {
   "cell_type": "code",
   "execution_count": null,
   "metadata": {
    "collapsed": false
   },
   "outputs": [],
   "source": []
  },
  {
   "cell_type": "code",
   "execution_count": 2,
   "metadata": {
    "collapsed": true
   },
   "outputs": [],
   "source": [
    "#Styles\n",
    "sns.set_style('darkgrid')\n",
    "sns.set_color_codes()\n",
    "plt.rcParams['figure.figsize'] = (12.0, 9.0)\n",
    "\n",
    "plt.rc('text', usetex=False)\n",
    "plt.rc('font', size=20.0, family='serif')"
   ]
  },
  {
   "cell_type": "code",
   "execution_count": 3,
   "metadata": {
    "collapsed": true
   },
   "outputs": [],
   "source": [
    "# key -> dataset code, name -> dataset name\n",
    "dataset_dict = {'1128_bac': 'OVA_Breast', '554_bac':'MNIST', '46_bac':'Splice'}"
   ]
  },
  {
   "cell_type": "code",
   "execution_count": 4,
   "metadata": {
    "collapsed": false
   },
   "outputs": [
    {
     "data": {
      "text/plain": [
       "['MNIST', 'OVA_Breast', 'Splice']"
      ]
     },
     "execution_count": 4,
     "metadata": {},
     "output_type": "execute_result"
    }
   ],
   "source": [
    "[dataset_dict.get(k) for k in dataset_dict]"
   ]
  },
  {
   "cell_type": "code",
   "execution_count": 5,
   "metadata": {
    "collapsed": false
   },
   "outputs": [],
   "source": [
    "reader = cr.ConfigReader()"
   ]
  },
  {
   "cell_type": "code",
   "execution_count": 6,
   "metadata": {
    "collapsed": true
   },
   "outputs": [],
   "source": [
    "base_data_dir = '/media/mendozah/My Passport/Master_Arbeit/constrained_DeepNet_Configs/'"
   ]
  },
  {
   "cell_type": "code",
   "execution_count": 8,
   "metadata": {
    "collapsed": false
   },
   "outputs": [],
   "source": [
    "solvers = ['adam', 'adadelta', 'adagrad', 'nesterov', 'sgd', 'momentum']\n",
    "solvers_dirs = list(map(lambda X: X + '_results', solvers))\n",
    "policies = ['fixed', 'inv', 'exp', 'step']\n",
    "interesting_params = [ 'response', 'solver', 'learning_rate', 'beta1', 'beta2', 'momentum',\n",
    "                      'lambda2', 'lr_policy','gamma', 'power', 'epoch_step']"
   ]
  },
  {
   "cell_type": "code",
   "execution_count": null,
   "metadata": {
    "collapsed": false
   },
   "outputs": [],
   "source": [
    "[i for i in itt.product(solvers_dirs, policies)]"
   ]
  },
  {
   "cell_type": "code",
   "execution_count": null,
   "metadata": {
    "collapsed": false
   },
   "outputs": [],
   "source": [
    "[ x[1] for x in os.walk(os.path.join(base_data_dir, 'adam_results'))][1]"
   ]
  },
  {
   "cell_type": "code",
   "execution_count": 11,
   "metadata": {
    "collapsed": false
   },
   "outputs": [],
   "source": [
    "mean_ds = []\n",
    "sem_ds = []\n",
    "params_frame = []\n",
    "for key in dataset_dict:\n",
    "    policy_solver_mean = []\n",
    "    policy_solver_sem = []\n",
    "    params_list = []\n",
    "    for j in solvers_dirs:\n",
    "        mean_list = []\n",
    "        sem_list = []\n",
    "        for i in policies:\n",
    "            data_dir = os.path.join(base_data_dir, j, dataset_dict[key], i)\n",
    "            _, bdf = reader.load_run_configs(data_dir=data_dir, dataset=key, preprocessor=None)\n",
    "            params_list.append(bdf.ix[:, interesting_params])\n",
    "            mean_list.append(bdf.response.mean())\n",
    "            sem_list.append(bdf.response.sem())\n",
    "        solver_mean = np.array(mean_list)\n",
    "        solver_sem = np.array(sem_list)\n",
    "        policy_solver_mean.append(solver_mean)\n",
    "        policy_solver_sem.append(solver_sem)\n",
    "    params_frame.append(pd.concat(params_list,axis=0))\n",
    "    mean_df = pd.DataFrame(policy_solver_mean, index=solvers, columns=policies)\n",
    "    sem_df = pd.DataFrame(policy_solver_sem, index=solvers, columns=policies)    \n",
    "    mean_ds.append(mean_df)\n",
    "    sem_ds.append(sem_df)\n",
    "mean_datasets = pd.concat(mean_ds, axis=1, keys=[dataset_dict.get(k) for k in dataset_dict],\n",
    "                          names = ['datasets', 'policies'])\n",
    "sem_datasets = pd.concat(sem_ds, axis=1, keys=[dataset_dict.get(k) for k in dataset_dict],\n",
    "                         names = ['datasets', 'policies'])\n",
    "params_df = pd.concat(params_frame, axis=0, keys=[dataset_dict.get(k) for k in dataset_dict],\n",
    "                      names=['dataset'])\n",
    "params_df.loc[:, 'lr_policy'] = params_df.ix[:,'lr_policy'].fillna('fixed')\n",
    "params_df = params_df.apply(pd.to_numeric, errors='ignore')"
   ]
  },
  {
   "cell_type": "code",
   "execution_count": 12,
   "metadata": {
    "collapsed": true
   },
   "outputs": [],
   "source": [
    "params_df.loc[:, 'lr_policy'] = params_df.ix[:,'lr_policy'].fillna('fixed')\n",
    "params_df = params_df.apply(pd.to_numeric, errors='ignore')\n",
    "params_df = params_df.reset_index(level=0)"
   ]
  },
  {
   "cell_type": "code",
   "execution_count": 13,
   "metadata": {
    "collapsed": false
   },
   "outputs": [
    {
     "data": {
      "text/html": [
       "<div>\n",
       "<table border=\"1\" class=\"dataframe\">\n",
       "  <thead>\n",
       "    <tr>\n",
       "      <th>datasets</th>\n",
       "      <th colspan=\"4\" halign=\"left\">MNIST</th>\n",
       "      <th colspan=\"4\" halign=\"left\">OVA_Breast</th>\n",
       "      <th colspan=\"4\" halign=\"left\">Splice</th>\n",
       "    </tr>\n",
       "    <tr>\n",
       "      <th>policies</th>\n",
       "      <th>fixed</th>\n",
       "      <th>inv</th>\n",
       "      <th>exp</th>\n",
       "      <th>step</th>\n",
       "      <th>fixed</th>\n",
       "      <th>inv</th>\n",
       "      <th>exp</th>\n",
       "      <th>step</th>\n",
       "      <th>fixed</th>\n",
       "      <th>inv</th>\n",
       "      <th>exp</th>\n",
       "      <th>step</th>\n",
       "    </tr>\n",
       "  </thead>\n",
       "  <tbody>\n",
       "    <tr>\n",
       "      <th>adam</th>\n",
       "      <td>0.021±0.001</td>\n",
       "      <td>0.019±0.001</td>\n",
       "      <td>0.025±0.001</td>\n",
       "      <td>0.022±0.001</td>\n",
       "      <td>0.014±0.001</td>\n",
       "      <td>0.015±0.002</td>\n",
       "      <td>0.014±0.001</td>\n",
       "      <td>0.014±0.001</td>\n",
       "      <td>0.062±0.002</td>\n",
       "      <td>0.059±0.003</td>\n",
       "      <td>0.065±0.003</td>\n",
       "      <td>0.064±0.002</td>\n",
       "    </tr>\n",
       "    <tr>\n",
       "      <th>adadelta</th>\n",
       "      <td>0.034±0.010</td>\n",
       "      <td>0.056±0.013</td>\n",
       "      <td>0.094±0.015</td>\n",
       "      <td>0.044±0.012</td>\n",
       "      <td>0.019±0.002</td>\n",
       "      <td>0.021±0.003</td>\n",
       "      <td>0.014±0.001</td>\n",
       "      <td>0.019±0.002</td>\n",
       "      <td>0.086±0.003</td>\n",
       "      <td>0.095±0.003</td>\n",
       "      <td>0.094±0.002</td>\n",
       "      <td>0.094±0.002</td>\n",
       "    </tr>\n",
       "    <tr>\n",
       "      <th>adagrad</th>\n",
       "      <td>0.024±0.001</td>\n",
       "      <td>0.026±0.002</td>\n",
       "      <td>0.032±0.002</td>\n",
       "      <td>0.023±0.001</td>\n",
       "      <td>0.012±0.000</td>\n",
       "      <td>0.015±0.002</td>\n",
       "      <td>0.015±0.002</td>\n",
       "      <td>0.015±0.002</td>\n",
       "      <td>0.051±0.002</td>\n",
       "      <td>0.056±0.002</td>\n",
       "      <td>0.059±0.003</td>\n",
       "      <td>0.057±0.003</td>\n",
       "    </tr>\n",
       "    <tr>\n",
       "      <th>nesterov</th>\n",
       "      <td>0.027±0.002</td>\n",
       "      <td>0.039±0.003</td>\n",
       "      <td>0.057±0.006</td>\n",
       "      <td>0.044±0.006</td>\n",
       "      <td>0.015±0.002</td>\n",
       "      <td>0.012±0.000</td>\n",
       "      <td>0.016±0.002</td>\n",
       "      <td>0.014±0.001</td>\n",
       "      <td>0.073±0.003</td>\n",
       "      <td>0.071±0.002</td>\n",
       "      <td>0.075±0.003</td>\n",
       "      <td>0.085±0.002</td>\n",
       "    </tr>\n",
       "    <tr>\n",
       "      <th>sgd</th>\n",
       "      <td>0.036±0.007</td>\n",
       "      <td>0.041±0.002</td>\n",
       "      <td>0.075±0.013</td>\n",
       "      <td>0.040±0.004</td>\n",
       "      <td>0.017±0.002</td>\n",
       "      <td>0.016±0.002</td>\n",
       "      <td>0.016±0.003</td>\n",
       "      <td>0.015±0.002</td>\n",
       "      <td>0.086±0.002</td>\n",
       "      <td>0.091±0.002</td>\n",
       "      <td>0.094±0.002</td>\n",
       "      <td>0.090±0.002</td>\n",
       "    </tr>\n",
       "    <tr>\n",
       "      <th>momentum</th>\n",
       "      <td>0.028±0.004</td>\n",
       "      <td>0.036±0.003</td>\n",
       "      <td>0.058±0.005</td>\n",
       "      <td>0.042±0.004</td>\n",
       "      <td>0.012±0.000</td>\n",
       "      <td>0.014±0.001</td>\n",
       "      <td>0.014±0.001</td>\n",
       "      <td>0.012±0.000</td>\n",
       "      <td>0.069±0.002</td>\n",
       "      <td>0.075±0.002</td>\n",
       "      <td>0.078±0.002</td>\n",
       "      <td>0.071±0.004</td>\n",
       "    </tr>\n",
       "  </tbody>\n",
       "</table>\n",
       "</div>"
      ],
      "text/plain": [
       "datasets        MNIST                                          OVA_Breast  \\\n",
       "policies        fixed          inv          exp         step        fixed   \n",
       "adam      0.021±0.001  0.019±0.001  0.025±0.001  0.022±0.001  0.014±0.001   \n",
       "adadelta  0.034±0.010  0.056±0.013  0.094±0.015  0.044±0.012  0.019±0.002   \n",
       "adagrad   0.024±0.001  0.026±0.002  0.032±0.002  0.023±0.001  0.012±0.000   \n",
       "nesterov  0.027±0.002  0.039±0.003  0.057±0.006  0.044±0.006  0.015±0.002   \n",
       "sgd       0.036±0.007  0.041±0.002  0.075±0.013  0.040±0.004  0.017±0.002   \n",
       "momentum  0.028±0.004  0.036±0.003  0.058±0.005  0.042±0.004  0.012±0.000   \n",
       "\n",
       "datasets                                              Splice               \\\n",
       "policies          inv          exp         step        fixed          inv   \n",
       "adam      0.015±0.002  0.014±0.001  0.014±0.001  0.062±0.002  0.059±0.003   \n",
       "adadelta  0.021±0.003  0.014±0.001  0.019±0.002  0.086±0.003  0.095±0.003   \n",
       "adagrad   0.015±0.002  0.015±0.002  0.015±0.002  0.051±0.002  0.056±0.002   \n",
       "nesterov  0.012±0.000  0.016±0.002  0.014±0.001  0.073±0.003  0.071±0.002   \n",
       "sgd       0.016±0.002  0.016±0.003  0.015±0.002  0.086±0.002  0.091±0.002   \n",
       "momentum  0.014±0.001  0.014±0.001  0.012±0.000  0.069±0.002  0.075±0.002   \n",
       "\n",
       "datasets                            \n",
       "policies          exp         step  \n",
       "adam      0.065±0.003  0.064±0.002  \n",
       "adadelta  0.094±0.002  0.094±0.002  \n",
       "adagrad   0.059±0.003  0.057±0.003  \n",
       "nesterov  0.075±0.003  0.085±0.002  \n",
       "sgd       0.094±0.002  0.090±0.002  \n",
       "momentum  0.078±0.002  0.071±0.004  "
      ]
     },
     "execution_count": 13,
     "metadata": {},
     "output_type": "execute_result"
    }
   ],
   "source": [
    "mean_datasets.applymap(lambda X: \"{:.3f}\".format(X)) + '±' + sem_datasets.applymap(lambda x: \"{:.3f}\".format(x))"
   ]
  },
  {
   "cell_type": "code",
   "execution_count": 14,
   "metadata": {
    "collapsed": false
   },
   "outputs": [],
   "source": [
    "grouped_df = mean_datasets.groupby(level=('policies'), axis=1)\n",
    "mean_df = grouped_df.mean()\n",
    "sem_df = sem_datasets.groupby(level=('policies'), axis=1).mean()"
   ]
  },
  {
   "cell_type": "code",
   "execution_count": 15,
   "metadata": {
    "collapsed": false
   },
   "outputs": [
    {
     "data": {
      "text/html": [
       "<div>\n",
       "<table border=\"1\" class=\"dataframe\">\n",
       "  <thead>\n",
       "    <tr style=\"text-align: right;\">\n",
       "      <th>policies</th>\n",
       "      <th>fixed</th>\n",
       "      <th>inv</th>\n",
       "      <th>exp</th>\n",
       "      <th>step</th>\n",
       "    </tr>\n",
       "  </thead>\n",
       "  <tbody>\n",
       "    <tr>\n",
       "      <th>adam</th>\n",
       "      <td>0.0322 ± 0.002</td>\n",
       "      <td>0.0310 ± 0.002</td>\n",
       "      <td>0.0348 ± 0.002</td>\n",
       "      <td>0.0332 ± 0.001</td>\n",
       "    </tr>\n",
       "    <tr>\n",
       "      <th>adadelta</th>\n",
       "      <td>0.0464 ± 0.005</td>\n",
       "      <td>0.0574 ± 0.006</td>\n",
       "      <td>0.0670 ± 0.006</td>\n",
       "      <td>0.0524 ± 0.005</td>\n",
       "    </tr>\n",
       "    <tr>\n",
       "      <th>adagrad</th>\n",
       "      <td>0.0291 ± 0.001</td>\n",
       "      <td>0.0323 ± 0.002</td>\n",
       "      <td>0.0352 ± 0.002</td>\n",
       "      <td>0.0316 ± 0.002</td>\n",
       "    </tr>\n",
       "    <tr>\n",
       "      <th>nesterov</th>\n",
       "      <td>0.0384 ± 0.002</td>\n",
       "      <td>0.0410 ± 0.002</td>\n",
       "      <td>0.0495 ± 0.003</td>\n",
       "      <td>0.0477 ± 0.003</td>\n",
       "    </tr>\n",
       "    <tr>\n",
       "      <th>sgd</th>\n",
       "      <td>0.0463 ± 0.004</td>\n",
       "      <td>0.0493 ± 0.002</td>\n",
       "      <td>0.0617 ± 0.006</td>\n",
       "      <td>0.0485 ± 0.003</td>\n",
       "    </tr>\n",
       "    <tr>\n",
       "      <th>momentum</th>\n",
       "      <td>0.0365 ± 0.002</td>\n",
       "      <td>0.0416 ± 0.002</td>\n",
       "      <td>0.0499 ± 0.003</td>\n",
       "      <td>0.0419 ± 0.003</td>\n",
       "    </tr>\n",
       "  </tbody>\n",
       "</table>\n",
       "</div>"
      ],
      "text/plain": [
       "policies           fixed             inv             exp            step\n",
       "adam      0.0322 ± 0.002  0.0310 ± 0.002  0.0348 ± 0.002  0.0332 ± 0.001\n",
       "adadelta  0.0464 ± 0.005  0.0574 ± 0.006  0.0670 ± 0.006  0.0524 ± 0.005\n",
       "adagrad   0.0291 ± 0.001  0.0323 ± 0.002  0.0352 ± 0.002  0.0316 ± 0.002\n",
       "nesterov  0.0384 ± 0.002  0.0410 ± 0.002  0.0495 ± 0.003  0.0477 ± 0.003\n",
       "sgd       0.0463 ± 0.004  0.0493 ± 0.002  0.0617 ± 0.006  0.0485 ± 0.003\n",
       "momentum  0.0365 ± 0.002  0.0416 ± 0.002  0.0499 ± 0.003  0.0419 ± 0.003"
      ]
     },
     "execution_count": 15,
     "metadata": {},
     "output_type": "execute_result"
    }
   ],
   "source": [
    "mean_df.applymap(lambda X: \"{:.4f}\".format(X)) + ' ± ' + sem_df.applymap(lambda x: \"{:.3f}\".format(x))"
   ]
  },
  {
   "cell_type": "code",
   "execution_count": 16,
   "metadata": {
    "collapsed": false
   },
   "outputs": [
    {
     "data": {
      "image/png": "[encoded data removed]",
      "text/plain": [
       "<matplotlib.figure.Figure at 0x7febe17fc990>"
      ]
     },
     "metadata": {},
     "output_type": "display_data"
    }
   ],
   "source": [
    "gmean = mean_datasets.groupby(level=('datasets'), axis=1)\n",
    "gsem = sem_datasets.groupby(level=('datasets'), axis=1)\n",
    "fig_means, axs = plt.subplots(nrows=1, ncols=3, figsize=(15., 7.), sharey=True)\n",
    "for ax, (name, groups), (_, group_sem) in zip(axs.flat,gmean, gsem):\n",
    "    groups.plot(kind='bar',label=name, alpha=0.9, ax=ax, yerr=group_sem)\n",
    "    ax.set_title(name)\n",
    "    ax.legend()\n",
    "fig_means.suptitle('Mean Response 1-Hidden-Layer NN categorized on solver and learning rate policy over 3 datasets',\n",
    "                   fontsize=14, y=1.02)\n",
    "# fig_means.savefig(os.path.join('images', 'mean_response_datasets.png'))\n",
    "plt.tight_layout()"
   ]
  },
  {
   "cell_type": "code",
   "execution_count": null,
   "metadata": {
    "collapsed": false
   },
   "outputs": [],
   "source": [
    "def bar_policy(policies):\n",
    "    mean_df[policies].plot(kind='bar', yerr=sem_df[policies])\n",
    "\n",
    "widgets.interact(bar_policy, policies=policies)"
   ]
  },
  {
   "cell_type": "code",
   "execution_count": 23,
   "metadata": {
    "collapsed": false
   },
   "outputs": [
    {
     "data": {
      "text/plain": [
       "adam        0.032182\n",
       "adadelta    0.046447\n",
       "adagrad     0.029125\n",
       "nesterov    0.038431\n",
       "sgd         0.046340\n",
       "momentum    0.036500\n",
       "Name: fixed, dtype: float64"
      ]
     },
     "execution_count": 23,
     "metadata": {},
     "output_type": "execute_result"
    }
   ],
   "source": [
    "mean_df['fixed']"
   ]
  },
  {
   "cell_type": "code",
   "execution_count": 19,
   "metadata": {
    "collapsed": false
   },
   "outputs": [
    {
     "data": {
      "text/plain": [
       "<matplotlib.axes._subplots.AxesSubplot at 0x7febe1653550>"
      ]
     },
     "execution_count": 19,
     "metadata": {},
     "output_type": "execute_result"
    },
    {
     "data": {
      "image/png": "[encoded data removed]",
      "text/plain": [
       "<matplotlib.figure.Figure at 0x7febe1a46e90>"
      ]
     },
     "metadata": {},
     "output_type": "display_data"
    }
   ],
   "source": [
    "mean_df.plot(kind='bar', yerr=sem_df)"
   ]
  },
  {
   "cell_type": "code",
   "execution_count": 61,
   "metadata": {
    "collapsed": true
   },
   "outputs": [],
   "source": [
    "plt.rcdefaults()"
   ]
  },
  {
   "cell_type": "code",
   "execution_count": 63,
   "metadata": {
    "collapsed": true
   },
   "outputs": [],
   "source": [
    "sns.set_style('whitegrid', {'axes.linewidth':1.25, 'axes.edgecolor':'0.15',\n",
    "                            'grid.linewidth':1.5, 'grid.color':'gray'})\n",
    "sns.set_color_codes()"
   ]
  },
  {
   "cell_type": "code",
   "execution_count": 102,
   "metadata": {
    "collapsed": false
   },
   "outputs": [
    {
     "data": {
      "text/plain": [
       "<matplotlib.axes._subplots.AxesSubplot at 0x7febe06493d0>"
      ]
     },
     "execution_count": 102,
     "metadata": {},
     "output_type": "execute_result"
    },
    {
     "data": {
      "image/png": "[encoded data removed]",
      "text/plain": [
       "<matplotlib.figure.Figure at 0x7febe0681250>"
      ]
     },
     "metadata": {},
     "output_type": "display_data"
    }
   ],
   "source": [
    "sns.barplot(data=mean_df.sort_values(by=['fixed']).T)"
   ]
  },
  {
   "cell_type": "code",
   "execution_count": 131,
   "metadata": {
    "collapsed": false
   },
   "outputs": [
    {
     "data": {
      "image/png": "[encoded data removed]",
      "text/plain": [
       "<matplotlib.figure.Figure at 0x7febe0bfe6d0>"
      ]
     },
     "metadata": {},
     "output_type": "display_data"
    }
   ],
   "source": [
    "plt.rcParams['figure.figsize'] = (12.0, 9.0)\n",
    "plt.rc('text', usetex=False)\n",
    "plt.rc('font', size=14.0, family='serif')\n",
    "fig_mean, ax_change = plt.subplots(1,1)\n",
    "ax_change.set_title('Performance variation with locked architecture over different solvers \\n across 3 selected datasets', y=1.02)\n",
    "sns.barplot(data=mean_df.sort_values(by=['fixed'], ascending=True).T, ax=ax_change)\n",
    "ax_change.set_ylabel('Loss $\\mathcal{L}$')\n",
    "ax_change.set_xlabel('Solvers choice')\n",
    "#fig_mean.savefig('/home/mendozah/workspace/thesis_autonet/images/solver_variation.pdf')\n",
    "fig_mean.show()"
   ]
  },
  {
   "cell_type": "code",
   "execution_count": 106,
   "metadata": {
    "collapsed": false
   },
   "outputs": [
    {
     "data": {
      "text/html": [
       "<div>\n",
       "<table border=\"1\" class=\"dataframe\">\n",
       "  <thead>\n",
       "    <tr style=\"text-align: right;\">\n",
       "      <th>policies</th>\n",
       "      <th>fixed</th>\n",
       "      <th>inv</th>\n",
       "      <th>exp</th>\n",
       "      <th>step</th>\n",
       "    </tr>\n",
       "  </thead>\n",
       "  <tbody>\n",
       "    <tr>\n",
       "      <th>adam</th>\n",
       "      <td>NaN</td>\n",
       "      <td>NaN</td>\n",
       "      <td>NaN</td>\n",
       "      <td>NaN</td>\n",
       "    </tr>\n",
       "    <tr>\n",
       "      <th>adadelta</th>\n",
       "      <td>0.443249</td>\n",
       "      <td>0.852638</td>\n",
       "      <td>0.926792</td>\n",
       "      <td>0.580405</td>\n",
       "    </tr>\n",
       "    <tr>\n",
       "      <th>adagrad</th>\n",
       "      <td>-0.372950</td>\n",
       "      <td>-0.437513</td>\n",
       "      <td>-0.474652</td>\n",
       "      <td>-0.396283</td>\n",
       "    </tr>\n",
       "    <tr>\n",
       "      <th>nesterov</th>\n",
       "      <td>0.319542</td>\n",
       "      <td>0.269961</td>\n",
       "      <td>0.406258</td>\n",
       "      <td>0.507523</td>\n",
       "    </tr>\n",
       "    <tr>\n",
       "      <th>sgd</th>\n",
       "      <td>0.205784</td>\n",
       "      <td>0.201694</td>\n",
       "      <td>0.245582</td>\n",
       "      <td>0.016252</td>\n",
       "    </tr>\n",
       "    <tr>\n",
       "      <th>momentum</th>\n",
       "      <td>-0.212334</td>\n",
       "      <td>-0.155487</td>\n",
       "      <td>-0.190416</td>\n",
       "      <td>-0.135551</td>\n",
       "    </tr>\n",
       "  </tbody>\n",
       "</table>\n",
       "</div>"
      ],
      "text/plain": [
       "policies     fixed       inv       exp      step\n",
       "adam           NaN       NaN       NaN       NaN\n",
       "adadelta  0.443249  0.852638  0.926792  0.580405\n",
       "adagrad  -0.372950 -0.437513 -0.474652 -0.396283\n",
       "nesterov  0.319542  0.269961  0.406258  0.507523\n",
       "sgd       0.205784  0.201694  0.245582  0.016252\n",
       "momentum -0.212334 -0.155487 -0.190416 -0.135551"
      ]
     },
     "execution_count": 106,
     "metadata": {},
     "output_type": "execute_result"
    }
   ],
   "source": [
    "mean_df.pct_change()"
   ]
  },
  {
   "cell_type": "code",
   "execution_count": 126,
   "metadata": {
    "collapsed": false
   },
   "outputs": [],
   "source": [
    "a = mean_df.apply(lambda X: (X.mean()-X)/X.std())"
   ]
  },
  {
   "cell_type": "code",
   "execution_count": null,
   "metadata": {
    "collapsed": false
   },
   "outputs": [],
   "source": [
    "# Rescale values in log-scale\n",
    "params_rescale = ['learning_rate','lambda2', 'beta1', 'beta2']\n",
    "params_df.loc[:,params_rescale]=params_df.ix[:,params_rescale].applymap(lambda x: np.log10(x))"
   ]
  },
  {
   "cell_type": "code",
   "execution_count": null,
   "metadata": {
    "collapsed": false
   },
   "outputs": [],
   "source": [
    "# Plot the empirical CDF\n",
    "sorted_Y = (params_df.sort_values(by='response', ascending=True)['response'].values)\n",
    "yvals = np.arange(len(sorted_Y)) / float(len(sorted_Y))\n",
    "\n",
    "plt.plot( sorted_Y, yvals )\n",
    "plt.xlabel(\"Cross-validation error $y(x)$\")\n",
    "plt.ylabel(r\"Number of Configs (%)\")\n",
    "plt.xlim(0.0, 0.1)\n",
    "plt.title(\"Empirical CDF of configurations based on validation error\")\n",
    "plt.show()"
   ]
  },
  {
   "cell_type": "markdown",
   "metadata": {
    "collapsed": true
   },
   "source": [
    "## After Setting the frames. Start with the plotting"
   ]
  },
  {
   "cell_type": "code",
   "execution_count": null,
   "metadata": {
    "collapsed": false
   },
   "outputs": [],
   "source": [
    "## TODO: Review how to make filtered and the figure return\n",
    "def plotting_threshold(error_threshold, categories):\n",
    "    #global filtered\n",
    "    filtered = params_df[params_df.response <= error_threshold]\n",
    "    fig_f, axs = plt.subplots(ncols=2,nrows=1, figsize=(15.0, 8.5))\n",
    "    ax0, ax1 = axs.flat\n",
    "    sns.boxplot(x=categories, y='response', data=filtered, ax=ax0)\n",
    "    sns.countplot(y=categories, data=filtered, ax=ax1)\n",
    "    fig_f.tight_layout()"
   ]
  },
  {
   "cell_type": "code",
   "execution_count": null,
   "metadata": {
    "collapsed": false,
    "scrolled": false
   },
   "outputs": [],
   "source": [
    "widgets.interact(plotting_threshold, error_threshold=(0.01,0.2,0.01),\n",
    "                 categories={'Solver':'solver', 'Policy':'lr_policy'})"
   ]
  },
  {
   "cell_type": "code",
   "execution_count": null,
   "metadata": {
    "collapsed": false
   },
   "outputs": [],
   "source": [
    "# Create the grouping of the filtered DF\n",
    "solver_filt = params_df.groupby('solver')"
   ]
  },
  {
   "cell_type": "code",
   "execution_count": null,
   "metadata": {
    "collapsed": false,
    "scrolled": false
   },
   "outputs": [],
   "source": [
    "g_barGrid = sns.FacetGrid(data=params_df, col='solver', row='lr_policy', hue='solver',\n",
    "                              size=3.9, aspect=0.8)\n",
    "g_barGrid.map(sns.distplot, 'learning_rate', hist=True, kde=False, rug=True, bins=6)\n",
    "g_barGrid.add_legend()\n",
    "g_barGrid.fig.suptitle('Distribution of learning rate',\n",
    "                           fontsize=12, y=1.02)\n",
    "g_barGrid.fig.subplots_adjust(wspace=.01,)\n",
    "#g_barGrid.fig.savefig('images_'+  dataset_name + 'distro_lr_solver_vs_policy.png')"
   ]
  },
  {
   "cell_type": "code",
   "execution_count": null,
   "metadata": {
    "collapsed": false
   },
   "outputs": [],
   "source": [
    "g_kdeGrid = sns.FacetGrid(data=params_df, col='solver', hue='lr_policy',\n",
    "                          col_wrap=3, size=3.9, aspect=0.8)\n",
    "g_kdeGrid.map(sns.distplot, 'learning_rate', hist=False, kde=True, rug=True)\n",
    "g_kdeGrid.add_legend()\n",
    "g_kdeGrid.fig.suptitle('Distribution of learning rate',\n",
    "                           fontsize=12, y=1.02)\n",
    "g_kdeGrid.fig.subplots_adjust(wspace=.01,)\n",
    "# g_kdeGrid.fig.savefig('images_'+ dataset_name + 'kde_lr_solver.png')"
   ]
  },
  {
   "cell_type": "markdown",
   "metadata": {},
   "source": [
    "## Density estimation and histograms of parameters based on filters"
   ]
  },
  {
   "cell_type": "code",
   "execution_count": null,
   "metadata": {
    "collapsed": false,
    "scrolled": false
   },
   "outputs": [],
   "source": [
    "# Seaborns Normed Distribution plots\n",
    "for name,groups in solver_filt:\n",
    "    sns.distplot(groups.learning_rate.values, bins=6, kde_kws={'label':name})"
   ]
  },
  {
   "cell_type": "code",
   "execution_count": null,
   "metadata": {
    "collapsed": false
   },
   "outputs": [],
   "source": [
    "#Subplots of the previous histogram\n",
    "color_histograms = sns.color_palette('Set1_r',12, desat=1.0)\n",
    "fig1, axs = plt.subplots(nrows=3, ncols=2, sharey='row', sharex=True)\n",
    "for iterate_axis, (name, groups) in zip(axs.flat, solver_filt):\n",
    "    sns.distplot(groups.learning_rate.values, bins=6, kde_kws={'label':name},\n",
    "                 color=color_histograms.pop(), ax=iterate_axis)\n",
    "    iterate_axis.legend()"
   ]
  },
  {
   "cell_type": "code",
   "execution_count": null,
   "metadata": {
    "collapsed": true
   },
   "outputs": [],
   "source": [
    "# Create the grouping of the filtered DF\n",
    "prepro_filt = params_df.groupby('lr_policy')"
   ]
  },
  {
   "cell_type": "code",
   "execution_count": null,
   "metadata": {
    "collapsed": true
   },
   "outputs": [],
   "source": [
    "def histogram_group_column_plotting(grouping, column):\n",
    "    #Have to convert the -1 to NaN\n",
    "    g = params_df.groupby(grouping)\n",
    "    s = len(g)\n",
    "    col_hist = sns.color_palette('Paired',s, desat=0.8)\n",
    "    fig_hist, axs = plt.subplots(nrows=int(np.ceil(s/2.)), ncols=2, sharex='col', sharey='row', figsize=(15., 11.))\n",
    "    for ax, (name, groups) in zip(axs.flat,g):\n",
    "        ax.hist(groups[column].dropna().values, bins=15,\n",
    "                histtype='bar', fill=True, label=name, alpha=0.9, color=col_hist.pop())\n",
    "        ax.set_xlabel(column + ' values')\n",
    "        ax.set_ylabel('# of Configs')\n",
    "        ax.legend()\n",
    "    fig_hist.suptitle('Distribution of '+ column +' values for each '+(grouping))"
   ]
  },
  {
   "cell_type": "code",
   "execution_count": null,
   "metadata": {
    "collapsed": true
   },
   "outputs": [],
   "source": [
    "# Create columns dict\n",
    "Groups = ['solver','lr_policy']\n",
    "Plott = {'Learning Rate':'learning_rate', 'beta 1':'beta1', 'beta 2':'beta2',\n",
    "         'Regularization Param':'lambda2', 'gamma':'gamma', 'power':'power', 'step size':'epoch_step'}"
   ]
  },
  {
   "cell_type": "code",
   "execution_count": null,
   "metadata": {
    "collapsed": false,
    "scrolled": false
   },
   "outputs": [],
   "source": [
    "widgets.interact(histogram_group_column_plotting, grouping=Groups, column=Plott)"
   ]
  },
  {
   "cell_type": "markdown",
   "metadata": {},
   "source": [
    "### Distribution of each parameter over all configurations"
   ]
  },
  {
   "cell_type": "code",
   "execution_count": null,
   "metadata": {
    "collapsed": true
   },
   "outputs": [],
   "source": [
    "def histogram_column_plotting(column):\n",
    "    fig_hist = plt.figure(6)\n",
    "    ax1 = plt.subplot(111)\n",
    "    ax1.set_title('Histogram of '+column)\n",
    "    params_df[column].plot(kind='hist', bins=15, ax=ax1)\n",
    "    ax1.set_xlabel('values')"
   ]
  },
  {
   "cell_type": "code",
   "execution_count": null,
   "metadata": {
    "collapsed": false
   },
   "outputs": [],
   "source": [
    "widgets.interact(histogram_column_plotting, column=list(params_df.columns.values[1:]))"
   ]
  },
  {
   "cell_type": "code",
   "execution_count": null,
   "metadata": {
    "collapsed": false
   },
   "outputs": [],
   "source": []
  }
 ],
 "metadata": {
  "kernelspec": {
   "display_name": "Python 2",
   "language": "python",
   "name": "python2"
  },
  "language_info": {
   "codemirror_mode": {
    "name": "ipython",
    "version": 2
   },
   "file_extension": ".py",
   "mimetype": "text/x-python",
   "name": "python",
   "nbconvert_exporter": "python",
   "pygments_lexer": "ipython2",
   "version": "2.7.6"
  }
 },
 "nbformat": 4,
 "nbformat_minor": 0
}
