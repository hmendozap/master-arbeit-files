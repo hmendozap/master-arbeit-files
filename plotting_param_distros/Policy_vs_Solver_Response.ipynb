{
 "cells": [
  {
   "cell_type": "code",
   "execution_count": 1,
   "metadata": {
    "collapsed": false,
    "slideshow": {
     "slide_type": "-"
    }
   },
   "outputs": [
    {
     "name": "stderr",
     "output_type": "stream",
     "text": [
      "/home/mendozah/workspace/envHDMp/local/lib/python2.7/site-packages/matplotlib/__init__.py:872: UserWarning: axes.color_cycle is deprecated and replaced with axes.prop_cycle; please use the latter.\n",
      "  warnings.warn(self.msg_depr % (key, alt_key))\n"
     ]
    }
   ],
   "source": [
    "import sys, os\n",
    "import numpy as np\n",
    "import matplotlib.pyplot as plt\n",
    "%matplotlib inline\n",
    "import pandas as pd\n",
    "import seaborn as sns\n",
    "import itertools as itt\n",
    "from ipywidgets import widgets\n",
    "import ConfigReader as cr"
   ]
  },
  {
   "cell_type": "code",
   "execution_count": null,
   "metadata": {
    "collapsed": false
   },
   "outputs": [],
   "source": []
  },
  {
   "cell_type": "code",
   "execution_count": 2,
   "metadata": {
    "collapsed": true
   },
   "outputs": [],
   "source": [
    "#Styles\n",
    "sns.set_style('darkgrid')\n",
    "sns.set_color_codes()\n",
    "plt.rcParams['figure.figsize'] = (12.0, 9.0)\n",
    "\n",
    "plt.rc('text', usetex=False)\n",
    "plt.rc('font', size=20.0, family='serif')"
   ]
  },
  {
   "cell_type": "code",
   "execution_count": null,
   "metadata": {
    "collapsed": true
   },
   "outputs": [],
   "source": [
    "# key -> dataset code, name -> dataset name\n",
    "dataset_dict = {'1128_bac': 'OVA_Breast', '554_bac':'MNIST', '46_bac':'Splice'}"
   ]
  },
  {
   "cell_type": "code",
   "execution_count": null,
   "metadata": {
    "collapsed": false
   },
   "outputs": [],
   "source": [
    "[dataset_dict.get(k) for k in dataset_dict]"
   ]
  },
  {
   "cell_type": "code",
   "execution_count": null,
   "metadata": {
    "collapsed": false
   },
   "outputs": [],
   "source": [
    "reader = cr.ConfigReader()"
   ]
  },
  {
   "cell_type": "code",
   "execution_count": null,
   "metadata": {
    "collapsed": false
   },
   "outputs": [],
   "source": [
    "base_data_dir = '/mhome/mendozah/constrained_DeepNet_Configs/'\n",
    "solvers = ['adam', 'adadelta', 'adagrad', 'nesterov', 'sgd', 'momentum']\n",
    "solvers_dirs = list(map(lambda X: X + '_results', solvers))\n",
    "policies = ['fixed', 'inv', 'exp', 'step']\n",
    "interesting_params = [ 'response', 'solver', 'learning_rate', 'beta1', 'beta2', 'momentum',\n",
    "                      'lambda2', 'lr_policy','gamma', 'power', 'epoch_step']"
   ]
  },
  {
   "cell_type": "code",
   "execution_count": null,
   "metadata": {
    "collapsed": false
   },
   "outputs": [],
   "source": [
    "[i for i in itt.product(solvers_dirs, policies)]"
   ]
  },
  {
   "cell_type": "code",
   "execution_count": null,
   "metadata": {
    "collapsed": false
   },
   "outputs": [],
   "source": [
    "[ x[1] for x in os.walk(os.path.join(base_data_dir, 'adam_results'))][1]"
   ]
  },
  {
   "cell_type": "code",
   "execution_count": null,
   "metadata": {
    "collapsed": false
   },
   "outputs": [],
   "source": [
    "mean_ds = []\n",
    "sem_ds = []\n",
    "params_frame = []\n",
    "for key in dataset_dict:\n",
    "    policy_solver_mean = []\n",
    "    policy_solver_sem = []\n",
    "    params_list = []\n",
    "    for j in solvers_dirs:\n",
    "        mean_list = []\n",
    "        sem_list = []\n",
    "        for i in policies:\n",
    "            data_dir = os.path.join(base_data_dir, j, dataset_dict[key], i)\n",
    "            _, bdf = reader.load_run_configs(data_dir=data_dir, dataset=key, preprocessor=None)\n",
    "            params_list.append(bdf.ix[:, interesting_params])\n",
    "            mean_list.append(bdf.response.mean())\n",
    "            sem_list.append(bdf.response.sem())\n",
    "        solver_mean = np.array(mean_list)\n",
    "        solver_sem = np.array(sem_list)\n",
    "        policy_solver_mean.append(solver_mean)\n",
    "        policy_solver_sem.append(solver_sem)\n",
    "    params_frame.append(pd.concat(params_list,axis=0))\n",
    "    mean_df = pd.DataFrame(policy_solver_mean, index=solvers, columns=policies)\n",
    "    sem_df = pd.DataFrame(policy_solver_sem, index=solvers, columns=policies)    \n",
    "    mean_ds.append(mean_df)\n",
    "    sem_ds.append(sem_df)\n",
    "mean_datasets = pd.concat(mean_ds, axis=1, keys=[dataset_dict.get(k) for k in dataset_dict],\n",
    "                          names = ['datasets', 'policies'])\n",
    "sem_datasets = pd.concat(sem_ds, axis=1, keys=[dataset_dict.get(k) for k in dataset_dict],\n",
    "                         names = ['datasets', 'policies'])\n",
    "params_df = pd.concat(params_frame, axis=0, keys=[dataset_dict.get(k) for k in dataset_dict],\n",
    "                      names=['dataset'])\n",
    "params_df.loc[:, 'lr_policy'] = params_df.ix[:,'lr_policy'].fillna('fixed')\n",
    "params_df = params_df.apply(pd.to_numeric, errors='ignore')"
   ]
  },
  {
   "cell_type": "code",
   "execution_count": null,
   "metadata": {
    "collapsed": true
   },
   "outputs": [],
   "source": [
    "params_df.loc[:, 'lr_policy'] = params_df.ix[:,'lr_policy'].fillna('fixed')\n",
    "params_df = params_df.apply(pd.to_numeric, errors='ignore')\n",
    "params_df = params_df.reset_index(level=0)"
   ]
  },
  {
   "cell_type": "code",
   "execution_count": null,
   "metadata": {
    "collapsed": false
   },
   "outputs": [],
   "source": [
    "mean_datasets.applymap(lambda X: \"{:.3f}\".format(X)) + '±' + sem_datasets.applymap(lambda x: \"{:.3f}\".format(x))"
   ]
  },
  {
   "cell_type": "code",
   "execution_count": null,
   "metadata": {
    "collapsed": false
   },
   "outputs": [],
   "source": [
    "grouped_df = mean_datasets.groupby(level=('policies'), axis=1)\n",
    "mean_df = grouped_df.mean()\n",
    "sem_df = sem_datasets.groupby(level=('policies'), axis=1).mean()"
   ]
  },
  {
   "cell_type": "code",
   "execution_count": null,
   "metadata": {
    "collapsed": false
   },
   "outputs": [],
   "source": [
    "mean_df.applymap(lambda X: \"{:.4f}\".format(X)) + ' ± ' + sem_df.applymap(lambda x: \"{:.3f}\".format(x))"
   ]
  },
  {
   "cell_type": "code",
   "execution_count": null,
   "metadata": {
    "collapsed": false
   },
   "outputs": [],
   "source": [
    "gmean = mean_datasets.groupby(level=('datasets'), axis=1)\n",
    "gsem = sem_datasets.groupby(level=('datasets'), axis=1)\n",
    "fig_means, axs = plt.subplots(nrows=1, ncols=3, figsize=(15., 7.), sharey=True)\n",
    "for ax, (name, groups), (_, group_sem) in zip(axs.flat,gmean, gsem):\n",
    "    groups.plot(kind='bar',label=name, alpha=0.9, ax=ax, yerr=group_sem)\n",
    "    ax.set_title(name)\n",
    "    ax.legend()\n",
    "fig_means.suptitle('Mean Response 1-Hidden-Layer NN categorized on solver and learning rate policy over 3 datasets',\n",
    "                   fontsize=14, y=1.02)\n",
    "# fig_means.savefig(os.path.join('images', 'mean_response_datasets.png'))\n",
    "plt.tight_layout()"
   ]
  },
  {
   "cell_type": "code",
   "execution_count": null,
   "metadata": {
    "collapsed": false
   },
   "outputs": [],
   "source": [
    "def bar_policy(policies):\n",
    "    mean_df[policies].plot(kind='bar', yerr=sem_df[policies])\n",
    "\n",
    "widgets.interact(bar_policy, policies=policies)"
   ]
  },
  {
   "cell_type": "code",
   "execution_count": null,
   "metadata": {
    "collapsed": false
   },
   "outputs": [],
   "source": [
    "mean_df.plot(kind='bar', yerr=sem_df)"
   ]
  },
  {
   "cell_type": "code",
   "execution_count": null,
   "metadata": {
    "collapsed": false
   },
   "outputs": [],
   "source": [
    "# Rescale values in log-scale\n",
    "params_rescale = ['learning_rate','lambda2', 'beta1', 'beta2']\n",
    "params_df.loc[:,params_rescale]=params_df.ix[:,params_rescale].applymap(lambda x: np.log10(x))"
   ]
  },
  {
   "cell_type": "code",
   "execution_count": null,
   "metadata": {
    "collapsed": false
   },
   "outputs": [],
   "source": [
    "# Plot the empirical CDF\n",
    "sorted_Y = (params_df.sort_values(by='response', ascending=True)['response'].values)\n",
    "yvals = np.arange(len(sorted_Y)) / float(len(sorted_Y))\n",
    "\n",
    "plt.plot( sorted_Y, yvals )\n",
    "plt.xlabel(\"Cross-validation error $y(x)$\")\n",
    "plt.ylabel(r\"Number of Configs (%)\")\n",
    "plt.xlim(0.0, 0.1)\n",
    "plt.title(\"Empirical CDF of configurations based on validation error\")\n",
    "plt.show()"
   ]
  },
  {
   "cell_type": "markdown",
   "metadata": {
    "collapsed": true
   },
   "source": [
    "## After Setting the frames. Start with the plotting"
   ]
  },
  {
   "cell_type": "code",
   "execution_count": null,
   "metadata": {
    "collapsed": false
   },
   "outputs": [],
   "source": [
    "## TODO: Review how to make filtered and the figure return\n",
    "def plotting_threshold(error_threshold, categories):\n",
    "    #global filtered\n",
    "    filtered = params_df[params_df.response <= error_threshold]\n",
    "    fig_f, axs = plt.subplots(ncols=2,nrows=1, figsize=(15.0, 8.5))\n",
    "    ax0, ax1 = axs.flat\n",
    "    sns.boxplot(x=categories, y='response', data=filtered, ax=ax0)\n",
    "    sns.countplot(y=categories, data=filtered, ax=ax1)\n",
    "    fig_f.tight_layout()"
   ]
  },
  {
   "cell_type": "code",
   "execution_count": null,
   "metadata": {
    "collapsed": false,
    "scrolled": false
   },
   "outputs": [],
   "source": [
    "widgets.interact(plotting_threshold, error_threshold=(0.01,0.2,0.01),\n",
    "                 categories={'Solver':'solver', 'Policy':'lr_policy'})"
   ]
  },
  {
   "cell_type": "code",
   "execution_count": null,
   "metadata": {
    "collapsed": false
   },
   "outputs": [],
   "source": [
    "# Create the grouping of the filtered DF\n",
    "solver_filt = params_df.groupby('solver')"
   ]
  },
  {
   "cell_type": "code",
   "execution_count": null,
   "metadata": {
    "collapsed": false,
    "scrolled": false
   },
   "outputs": [],
   "source": [
    "g_barGrid = sns.FacetGrid(data=params_df, col='solver', row='lr_policy', hue='solver',\n",
    "                              size=3.9, aspect=0.8)\n",
    "g_barGrid.map(sns.distplot, 'learning_rate', hist=True, kde=False, rug=True, bins=6)\n",
    "g_barGrid.add_legend()\n",
    "g_barGrid.fig.suptitle('Distribution of learning rate',\n",
    "                           fontsize=12, y=1.02)\n",
    "g_barGrid.fig.subplots_adjust(wspace=.01,)\n",
    "#g_barGrid.fig.savefig('images_'+  dataset_name + 'distro_lr_solver_vs_policy.png')"
   ]
  },
  {
   "cell_type": "code",
   "execution_count": null,
   "metadata": {
    "collapsed": false
   },
   "outputs": [],
   "source": [
    "g_kdeGrid = sns.FacetGrid(data=params_df, col='solver', hue='lr_policy',\n",
    "                          col_wrap=3, size=3.9, aspect=0.8)\n",
    "g_kdeGrid.map(sns.distplot, 'learning_rate', hist=False, kde=True, rug=True)\n",
    "g_kdeGrid.add_legend()\n",
    "g_kdeGrid.fig.suptitle('Distribution of learning rate',\n",
    "                           fontsize=12, y=1.02)\n",
    "g_kdeGrid.fig.subplots_adjust(wspace=.01,)\n",
    "# g_kdeGrid.fig.savefig('images_'+ dataset_name + 'kde_lr_solver.png')"
   ]
  },
  {
   "cell_type": "markdown",
   "metadata": {},
   "source": [
    "## Density estimation and histograms of parameters based on filters"
   ]
  },
  {
   "cell_type": "code",
   "execution_count": null,
   "metadata": {
    "collapsed": false,
    "scrolled": false
   },
   "outputs": [],
   "source": [
    "# Seaborns Normed Distribution plots\n",
    "for name,groups in solver_filt:\n",
    "    sns.distplot(groups.learning_rate.values, bins=6, kde_kws={'label':name})"
   ]
  },
  {
   "cell_type": "code",
   "execution_count": null,
   "metadata": {
    "collapsed": false
   },
   "outputs": [],
   "source": [
    "#Subplots of the previous histogram\n",
    "color_histograms = sns.color_palette('Set1_r',12, desat=1.0)\n",
    "fig1, axs = plt.subplots(nrows=3, ncols=2, sharey='row', sharex=True)\n",
    "for iterate_axis, (name, groups) in zip(axs.flat, solver_filt):\n",
    "    sns.distplot(groups.learning_rate.values, bins=6, kde_kws={'label':name},\n",
    "                 color=color_histograms.pop(), ax=iterate_axis)\n",
    "    iterate_axis.legend()"
   ]
  },
  {
   "cell_type": "code",
   "execution_count": null,
   "metadata": {
    "collapsed": true
   },
   "outputs": [],
   "source": [
    "# Create the grouping of the filtered DF\n",
    "prepro_filt = params_df.groupby('lr_policy')"
   ]
  },
  {
   "cell_type": "code",
   "execution_count": null,
   "metadata": {
    "collapsed": true
   },
   "outputs": [],
   "source": [
    "def histogram_group_column_plotting(grouping, column):\n",
    "    #Have to convert the -1 to NaN\n",
    "    g = params_df.groupby(grouping)\n",
    "    s = len(g)\n",
    "    col_hist = sns.color_palette('Paired',s, desat=0.8)\n",
    "    fig_hist, axs = plt.subplots(nrows=int(np.ceil(s/2.)), ncols=2, sharex='col', sharey='row', figsize=(15., 11.))\n",
    "    for ax, (name, groups) in zip(axs.flat,g):\n",
    "        ax.hist(groups[column].dropna().values, bins=15,\n",
    "                histtype='bar', fill=True, label=name, alpha=0.9, color=col_hist.pop())\n",
    "        ax.set_xlabel(column + ' values')\n",
    "        ax.set_ylabel('# of Configs')\n",
    "        ax.legend()\n",
    "    fig_hist.suptitle('Distribution of '+ column +' values for each '+(grouping))"
   ]
  },
  {
   "cell_type": "code",
   "execution_count": null,
   "metadata": {
    "collapsed": true
   },
   "outputs": [],
   "source": [
    "# Create columns dict\n",
    "Groups = ['solver','lr_policy']\n",
    "Plott = {'Learning Rate':'learning_rate', 'beta 1':'beta1', 'beta 2':'beta2',\n",
    "         'Regularization Param':'lambda2', 'gamma':'gamma', 'power':'power', 'step size':'epoch_step'}"
   ]
  },
  {
   "cell_type": "code",
   "execution_count": null,
   "metadata": {
    "collapsed": false,
    "scrolled": false
   },
   "outputs": [],
   "source": [
    "widgets.interact(histogram_group_column_plotting, grouping=Groups, column=Plott)"
   ]
  },
  {
   "cell_type": "markdown",
   "metadata": {},
   "source": [
    "### Distribution of each parameter over all configurations"
   ]
  },
  {
   "cell_type": "code",
   "execution_count": null,
   "metadata": {
    "collapsed": true
   },
   "outputs": [],
   "source": [
    "def histogram_column_plotting(column):\n",
    "    fig_hist = plt.figure(6)\n",
    "    ax1 = plt.subplot(111)\n",
    "    ax1.set_title('Histogram of '+column)\n",
    "    params_df[column].plot(kind='hist', bins=15, ax=ax1)\n",
    "    ax1.set_xlabel('values')"
   ]
  },
  {
   "cell_type": "code",
   "execution_count": null,
   "metadata": {
    "collapsed": false
   },
   "outputs": [],
   "source": [
    "widgets.interact(histogram_column_plotting, column=list(params_df.columns.values[1:]))"
   ]
  },
  {
   "cell_type": "code",
   "execution_count": null,
   "metadata": {
    "collapsed": false
   },
   "outputs": [],
   "source": []
  }
 ],
 "metadata": {
  "kernelspec": {
   "display_name": "Python 2",
   "language": "python",
   "name": "python2"
  },
  "language_info": {
   "codemirror_mode": {
    "name": "ipython",
    "version": 2
   },
   "file_extension": ".py",
   "mimetype": "text/x-python",
   "name": "python",
   "nbconvert_exporter": "python",
   "pygments_lexer": "ipython2",
   "version": "2.7.6"
  }
 },
 "nbformat": 4,
 "nbformat_minor": 0
}
