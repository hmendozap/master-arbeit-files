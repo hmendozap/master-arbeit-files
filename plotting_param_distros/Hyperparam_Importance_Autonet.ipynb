{
 "cells": [
  {
   "cell_type": "code",
   "execution_count": null,
   "metadata": {
    "collapsed": false,
    "slideshow": {
     "slide_type": "-"
    }
   },
   "outputs": [],
   "source": [
    "import sys, os\n",
    "import numpy as np\n",
    "import matplotlib.pyplot as plt\n",
    "%matplotlib inline\n",
    "import pandas as pd\n",
    "import seaborn as sns\n",
    "import itertools as itt\n",
    "from ipywidgets import widgets\n",
    "import ConfigReader as cr"
   ]
  },
  {
   "cell_type": "code",
   "execution_count": null,
   "metadata": {
    "collapsed": true
   },
   "outputs": [],
   "source": [
    "#Styles\n",
    "sns.set_style('whitegrid', {'axes.linewidth':1.25, 'axes.edgecolor':'0.15',\n",
    "                            'grid.linewidth':1.5, 'grid.color':'gray'})\n",
    "sns.set_color_codes()"
   ]
  },
  {
   "cell_type": "code",
   "execution_count": null,
   "metadata": {
    "collapsed": true
   },
   "outputs": [],
   "source": [
    "plt.rcParams['figure.figsize'] = (12.0, 9.0)\n",
    "\n",
    "plt.rc('text', usetex=False)\n",
    "plt.rc('font', size=20.0, family='serif')"
   ]
  },
  {
   "cell_type": "code",
   "execution_count": null,
   "metadata": {
    "collapsed": true
   },
   "outputs": [],
   "source": [
    "datasets =[\"1049\", \"1111\", \"1120\", \"1128\", \"179\", \"184\", \"293\", \"389\", \"38\", \"46\", \"554\", \"772\", \"917\"]"
   ]
  },
  {
   "cell_type": "code",
   "execution_count": null,
   "metadata": {
    "collapsed": true
   },
   "outputs": [],
   "source": [
    "dataset = '38_bac'\n",
    "experiments = ['ROAR']\n",
    "preprocessor='DeepNetIterative'"
   ]
  },
  {
   "cell_type": "code",
   "execution_count": null,
   "metadata": {
    "collapsed": true
   },
   "outputs": [],
   "source": [
    "base_data_dir = '/mhome/mendozah/autonet_ROAR/results/fanova_merged_smac/'"
   ]
  },
  {
   "cell_type": "code",
   "execution_count": null,
   "metadata": {
    "collapsed": false
   },
   "outputs": [],
   "source": [
    "datasets_dirs = list(map(lambda X: X + '_bac', datasets))"
   ]
  },
  {
   "cell_type": "markdown",
   "metadata": {
    "collapsed": true
   },
   "source": [
    "## Parameter importance evaluation"
   ]
  },
  {
   "cell_type": "code",
   "execution_count": null,
   "metadata": {
    "collapsed": true
   },
   "outputs": [],
   "source": [
    "import pyfanova.fanova"
   ]
  },
  {
   "cell_type": "code",
   "execution_count": null,
   "metadata": {
    "collapsed": false
   },
   "outputs": [],
   "source": [
    "state_run_dir = os.path.join(base_data_dir, dataset)"
   ]
  },
  {
   "cell_type": "code",
   "execution_count": null,
   "metadata": {
    "collapsed": false
   },
   "outputs": [],
   "source": [
    "fanova_set = pyfanova.fanova.Fanova(state_run_dir)"
   ]
  },
  {
   "cell_type": "code",
   "execution_count": null,
   "metadata": {
    "collapsed": true
   },
   "outputs": [],
   "source": [
    "max_marginals = 7\n",
    "cols_imp_df = ['marginal', 'parameter']"
   ]
  },
  {
   "cell_type": "code",
   "execution_count": null,
   "metadata": {
    "collapsed": false
   },
   "outputs": [],
   "source": [
    "temp_df = pd.DataFrame(fanova_set.print_all_marginals(max_num=max_marginals, pairwise=True), columns=cols_imp_df)"
   ]
  },
  {
   "cell_type": "code",
   "execution_count": null,
   "metadata": {
    "collapsed": true
   },
   "outputs": [],
   "source": [
    "flatex = '%d_marginals_table_for_%s.tex' % (max_marginals, dataset)"
   ]
  },
  {
   "cell_type": "code",
   "execution_count": null,
   "metadata": {
    "collapsed": false
   },
   "outputs": [],
   "source": [
    "pd.set_option('display.max_colwidth', -1)\n",
    "print(temp_df.to_latex())\n",
    "pd.set_option('display.max_colwidth', 51)"
   ]
  },
  {
   "cell_type": "code",
   "execution_count": null,
   "metadata": {
    "collapsed": true
   },
   "outputs": [],
   "source": [
    "# From my opinion very sloppy way to do it\n",
    "clear_name = lambda X: X.split(':')[-1] if X.split(':')[0] == 'classifier' else X.split(':')[0]"
   ]
  },
  {
   "cell_type": "code",
   "execution_count": null,
   "metadata": {
    "collapsed": false
   },
   "outputs": [],
   "source": [
    "for g in temp_df.parameter:\n",
    "    print(\"ECA %s\" % map(lambda X: X.split(':')[-1] if X.split(':')[0] == 'classifier' else X.split(':')[0], g))"
   ]
  },
  {
   "cell_type": "markdown",
   "metadata": {
    "collapsed": false,
    "scrolled": false
   },
   "source": [
    "### Plot the marginals."
   ]
  },
  {
   "cell_type": "code",
   "execution_count": null,
   "metadata": {
    "collapsed": false
   },
   "outputs": [],
   "source": [
    "import pyfanova.visualizer"
   ]
  },
  {
   "cell_type": "code",
   "execution_count": null,
   "metadata": {
    "collapsed": false
   },
   "outputs": [],
   "source": [
    "reload(pyfanova.visualizer)"
   ]
  },
  {
   "cell_type": "code",
   "execution_count": null,
   "metadata": {
    "collapsed": true
   },
   "outputs": [],
   "source": [
    "viz_set = pyfanova.visualizer.Visualizer(fanova_set)"
   ]
  },
  {
   "cell_type": "code",
   "execution_count": null,
   "metadata": {
    "collapsed": false
   },
   "outputs": [],
   "source": [
    "plt.rcdefaults()"
   ]
  },
  {
   "cell_type": "code",
   "execution_count": null,
   "metadata": {
    "collapsed": false
   },
   "outputs": [],
   "source": [
    "viz_set = pyfanova.visualizer.Visualizer(fanova_set)\n",
    "categorical_params = fanova_set.get_config_space().get_categorical_parameters()\n",
    "for p in temp_df.parameter:\n",
    "    fig_hyper, ax_hyper = plt.subplots(1,1)\n",
    "    print p\n",
    "    if len(p) == 1:\n",
    "        label = clear_name(p[0])\n",
    "        if p[0] not in categorical_params:\n",
    "            viz_set.plot_marginal(p[0], ax=ax_hyper)\n",
    "        else:\n",
    "            viz_set.plot_categorical_marginal(p[0], ax=ax_hyper)\n",
    "        ax_hyper.set_xlabel(label)\n",
    "    else:\n",
    "        if(p[0] in categorical_params) and (p[1] not in categorical_params):\n",
    "            viz_set.plot_categorical_pairwise(p[0], p[1], ax=ax_hyper)\n",
    "            ax_hyper.set_xlabel(clear_name(p[1]))\n",
    "        elif (p[0] not in categorical_params) and (p[1] not in categorical_params):\n",
    "            viz_set.plot_contour_pairwise(p[0],p[1], ax=ax_hyper)\n",
    "    fig_hyper.show()"
   ]
  }
 ],
 "metadata": {
  "kernelspec": {
   "display_name": "Python 2",
   "language": "python",
   "name": "python2"
  },
  "language_info": {
   "codemirror_mode": {
    "name": "ipython",
    "version": 2
   },
   "file_extension": ".py",
   "mimetype": "text/x-python",
   "name": "python",
   "nbconvert_exporter": "python",
   "pygments_lexer": "ipython2",
   "version": "2.7.6"
  }
 },
 "nbformat": 4,
 "nbformat_minor": 0
}
