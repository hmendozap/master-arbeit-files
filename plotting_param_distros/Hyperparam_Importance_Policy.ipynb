{
 "cells": [
  {
   "cell_type": "code",
   "execution_count": 1,
   "metadata": {
    "collapsed": false,
    "slideshow": {
     "slide_type": "-"
    }
   },
   "outputs": [
    {
     "name": "stderr",
     "output_type": "stream",
     "text": [
      "/home/mendozah/workspace/envHDMp/local/lib/python2.7/site-packages/matplotlib/__init__.py:872: UserWarning: axes.color_cycle is deprecated and replaced with axes.prop_cycle; please use the latter.\n",
      "  warnings.warn(self.msg_depr % (key, alt_key))\n"
     ]
    }
   ],
   "source": [
    "import sys, os\n",
    "import numpy as np\n",
    "import matplotlib.pyplot as plt\n",
    "%matplotlib inline\n",
    "import pandas as pd\n",
    "import seaborn as sns\n",
    "import itertools as itt\n",
    "from ipywidgets import widgets\n",
    "import ConfigReader as cr"
   ]
  },
  {
   "cell_type": "code",
   "execution_count": 2,
   "metadata": {
    "collapsed": true
   },
   "outputs": [],
   "source": [
    "idx = pd.IndexSlice\n",
    "\n",
    "#Styles\n",
    "sns.set_style('darkgrid')\n",
    "sns.set_color_codes()\n",
    "plt.rcParams['figure.figsize'] = (12.0, 9.0)\n",
    "\n",
    "plt.rc('text', usetex=False)\n",
    "plt.rc('font', size=20.0, family='serif')"
   ]
  },
  {
   "cell_type": "code",
   "execution_count": 8,
   "metadata": {
    "collapsed": true
   },
   "outputs": [],
   "source": [
    "# key -> dataset code, name -> dataset name\n",
    "dataset_dict = {'1128_bac': 'OVA_Breast', '554_bac':'MNIST', '46_bac':'Splice'}"
   ]
  },
  {
   "cell_type": "code",
   "execution_count": 9,
   "metadata": {
    "collapsed": false
   },
   "outputs": [
    {
     "data": {
      "text/plain": [
       "['MNIST', 'OVA_Breast', 'Splice']"
      ]
     },
     "execution_count": 9,
     "metadata": {},
     "output_type": "execute_result"
    }
   ],
   "source": [
    "[dataset_dict.get(k) for k in dataset_dict]"
   ]
  },
  {
   "cell_type": "code",
   "execution_count": null,
   "metadata": {
    "collapsed": true
   },
   "outputs": [],
   "source": [
    "# From my opinion very sloppy way to do it\n",
    "clear_name = lambda X: X.split(':')[-1] if X.split(':')[0] == 'classifier' else X.split(':')[0]"
   ]
  },
  {
   "cell_type": "code",
   "execution_count": 10,
   "metadata": {
    "collapsed": false
   },
   "outputs": [],
   "source": [
    "base_data_dir = '/mhome/mendozah/constrained_DeepNet_Configs/'\n",
    "solvers = ['adam', 'adadelta', 'adagrad', 'nesterov', 'sgd', 'momentum']\n",
    "solvers_dirs = list(map(lambda X: X + '_results', solvers))\n",
    "policies = ['fixed', 'inv', 'exp', 'step']\n",
    "interesting_params = [ 'response', 'solver', 'learning_rate', 'beta1', 'beta2', 'momentum',\n",
    "                      'lambda2', 'lr_policy','gamma', 'power', 'epoch_step']"
   ]
  },
  {
   "cell_type": "markdown",
   "metadata": {
    "collapsed": true
   },
   "source": [
    "## Parameter importance plotting"
   ]
  },
  {
   "cell_type": "code",
   "execution_count": 181,
   "metadata": {
    "collapsed": true
   },
   "outputs": [],
   "source": [
    "import pyfanova.fanova"
   ]
  },
  {
   "cell_type": "code",
   "execution_count": 182,
   "metadata": {
    "collapsed": false
   },
   "outputs": [
    {
     "data": {
      "text/plain": [
       "<module 'pyfanova.fanova' from '/home/mendozah/workspace/fanova/pyfanova/fanova.pyc'>"
      ]
     },
     "execution_count": 182,
     "metadata": {},
     "output_type": "execute_result"
    }
   ],
   "source": [
    "reload(pyfanova.fanova)"
   ]
  },
  {
   "cell_type": "code",
   "execution_count": 183,
   "metadata": {
    "collapsed": false
   },
   "outputs": [],
   "source": [
    "state_run_dir = \"/mhome/mendozah/constrained_DeepNet_Configs/adam_results/MNIST/inv/merged_runs_inv/\""
   ]
  },
  {
   "cell_type": "code",
   "execution_count": 184,
   "metadata": {
    "collapsed": true
   },
   "outputs": [],
   "source": [
    "fanova_sets = dict()\n",
    "\n",
    "for policy in policies:\n",
    "    solver_run_dir = os.path.join(base_data_dir, solvers_dirs[0],\n",
    "                              dataset_dict.get('554_bac'),\n",
    "                              policy, 'merged_runs_' + policy)\n",
    "    fanova_sets[policy] = pyfanova.fanova.Fanova(solver_run_dir)"
   ]
  },
  {
   "cell_type": "code",
   "execution_count": 186,
   "metadata": {
    "collapsed": true
   },
   "outputs": [],
   "source": [
    "max_marginals = 5\n",
    "cols_imp_df = ['marginal', 'parameter']"
   ]
  },
  {
   "cell_type": "code",
   "execution_count": 49,
   "metadata": {
    "collapsed": false
   },
   "outputs": [],
   "source": [
    "assert len(fanova_sets) == len(policies), \"Not all policies are available\""
   ]
  },
  {
   "cell_type": "code",
   "execution_count": 187,
   "metadata": {
    "collapsed": true
   },
   "outputs": [],
   "source": [
    "policy_marginals = []\n",
    "\n",
    "for k, v in fanova_sets.items():\n",
    "    temp_df = (pd.DataFrame(v.print_all_marginals(max_num=max_marginals, pairwise=True), columns=cols_imp_df)\n",
    "               .assign(policy=k))\n",
    "    policy_marginals.append(temp_df)\n",
    "    print(\"======================= DONE =======================\")"
   ]
  },
  {
   "cell_type": "code",
   "execution_count": 189,
   "metadata": {
    "collapsed": false
   },
   "outputs": [],
   "source": [
    "plot_df = pd.concat(policy_marginals).reset_index(drop=True)\n",
    "plot_df.loc[:, ['parameter']] = plot_df.parameter.str.split(' x ')"
   ]
  },
  {
   "cell_type": "code",
   "execution_count": null,
   "metadata": {
    "collapsed": false
   },
   "outputs": [],
   "source": [
    "for name, group in plot_df.groupby('policy'):\n",
    "    print name\n",
    "    for g in group.parameter:\n",
    "        print(\"ECA %s\" % map(lambda X: X.split(':')[-1] if X.split(':')[0] == 'classifier' else X.split(':')[0], g))"
   ]
  },
  {
   "cell_type": "markdown",
   "metadata": {
    "collapsed": false,
    "scrolled": false
   },
   "source": [
    "### Plot now the marginals. Columns is the order and row is the policy"
   ]
  },
  {
   "cell_type": "code",
   "execution_count": 174,
   "metadata": {
    "collapsed": true
   },
   "outputs": [],
   "source": [
    "import pyfanova.visualizer"
   ]
  },
  {
   "cell_type": "code",
   "execution_count": 240,
   "metadata": {
    "collapsed": false
   },
   "outputs": [
    {
     "data": {
      "text/plain": [
       "<module 'pyfanova.visualizer' from '/home/mendozah/workspace/fanova/pyfanova/visualizer.py'>"
      ]
     },
     "execution_count": 240,
     "metadata": {},
     "output_type": "execute_result"
    }
   ],
   "source": [
    "reload(pyfanova.visualizer)"
   ]
  },
  {
   "cell_type": "code",
   "execution_count": 241,
   "metadata": {
    "collapsed": false
   },
   "outputs": [],
   "source": [
    "viz_sets = {k: pyfanova.visualizer.Visualizer(v) for k,v in fanova_sets.items()}"
   ]
  },
  {
   "cell_type": "code",
   "execution_count": null,
   "metadata": {
    "collapsed": false
   },
   "outputs": [],
   "source": [
    "fig_hyper, axh = plt.subplots(nrows=len(viz_sets), ncols=max_marginals, figsize=(32, 20.), sharey=True)\n",
    "for row, (name, group) in zip(axh, plot_df.groupby('policy')):\n",
    "    key_viz = viz_sets[name]\n",
    "    categorical_params = fanova_sets[name].get_config_space().get_categorical_parameters()\n",
    "    for ax, p in zip(row, group.parameter):\n",
    "        if len(p) == 1:\n",
    "            if p[0] not in categorical_params:\n",
    "                key_viz.plot_marginal(p[0], ax=ax)\n",
    "            else:\n",
    "                key_viz.plot_categorical_marginal(p[0],ax=ax)    \n",
    "            ax.set_xlabel(clear_name(p[0]))\n",
    "        else:\n",
    "            if (p[0] in categorical_params) and (p[1] not in categorical_params):\n",
    "                key_viz.plot_contour_categorical_pairwise(p[0], p[1], ax=ax)\n",
    "                ax.set_xlabel(clear_name(p[1]))\n",
    "        ax.set_title('Policy: ' + name)\n",
    "plt.tight_layout()\n",
    "fig_hyper.savefig(os.path.join('images', str(max_marginals) + '_Most_Important_Params_on_MNIST.png'))"
   ]
  },
  {
   "cell_type": "code",
   "execution_count": null,
   "metadata": {
    "collapsed": false
   },
   "outputs": [],
   "source": [
    "s = len(importance_params)\n",
    "fig_effect, axp = plt.subplots(nrows=int(np.ceil(s/3.)), ncols=3, figsize=(15., 12.), sharey=True)\n",
    "for ax, name in zip(axp.flat, importance_params):\n",
    "    viz_MNIST.plot_marginal('classifier:AdamInvConstFeedNet:' + name, ax=ax)\n",
    "    ax.set_xlabel(name)\n",
    "fig_effect.suptitle('Hyperparameter Importance')\n",
    "#fig_effect.savefig('images_'+ dataset_name +'joint_distro_lr_response.png')\n",
    "plt.tight_layout()"
   ]
  },
  {
   "cell_type": "code",
   "execution_count": null,
   "metadata": {
    "collapsed": false
   },
   "outputs": [],
   "source": [
    "ax_params = viz_MNIST.plot_pairwise_marginal('classifier:AdamInvConstFeedNet:beta1',\n",
    "                                             'classifier:AdamInvConstFeedNet:lambda2', resolution=50)"
   ]
  },
  {
   "cell_type": "code",
   "execution_count": null,
   "metadata": {
    "collapsed": false
   },
   "outputs": [],
   "source": [
    "s = len(importance_params)\n",
    "fig_interaction, axi = plt.subplots(nrows=int(np.ceil(s/3.)), ncols=3, figsize=(22., 15.), sharey=True)\n",
    "for ax, name in zip(axi.flat, importance_params):\n",
    "    viz_MNIST.plot_contour_pairwise('classifier:AdamInvConstFeedNet:' + name,\n",
    "                                    'classifier:AdamInvConstFeedNet:lambda2',\n",
    "                                    bounds_1=(0.0, 1.0), bounds_2=(0.0, 1.0),\n",
    "                                    log_scale_1=False, log_scale_2=True,\n",
    "                                    resolution=10, ax=ax)\n",
    "    ax.set_ylabel('lambda2')\n",
    "    ax.set_xlabel(name)\n",
    "fig_interaction.suptitle('Hyperparameter Interaction')\n",
    "#fig_kde.savefig('images_'+ dataset_name +'joint_distro_lr_response.png')\n",
    "plt.tight_layout()"
   ]
  },
  {
   "cell_type": "code",
   "execution_count": null,
   "metadata": {
    "collapsed": true
   },
   "outputs": [],
   "source": []
  }
 ],
 "metadata": {
  "kernelspec": {
   "display_name": "Python 2",
   "language": "python",
   "name": "python2"
  },
  "language_info": {
   "codemirror_mode": {
    "name": "ipython",
    "version": 2
   },
   "file_extension": ".py",
   "mimetype": "text/x-python",
   "name": "python",
   "nbconvert_exporter": "python",
   "pygments_lexer": "ipython2",
   "version": "2.7.6"
  }
 },
 "nbformat": 4,
 "nbformat_minor": 0
}
